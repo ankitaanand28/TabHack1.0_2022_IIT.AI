{
 "cells": [
  {
   "cell_type": "markdown",
   "id": "370647b4",
   "metadata": {
    "papermill": {
     "duration": 0.019949,
     "end_time": "2023-05-22T15:53:28.312351",
     "exception": false,
     "start_time": "2023-05-22T15:53:28.292402",
     "status": "completed"
    },
    "tags": []
   },
   "source": [
    "# * Importing important **libraries** "
   ]
  },
  {
   "cell_type": "code",
   "execution_count": 1,
   "id": "ddc02d13",
   "metadata": {
    "execution": {
     "iopub.execute_input": "2023-05-22T15:53:28.350603Z",
     "iopub.status.busy": "2023-05-22T15:53:28.349682Z",
     "iopub.status.idle": "2023-05-22T15:53:30.166419Z",
     "shell.execute_reply": "2023-05-22T15:53:30.165109Z"
    },
    "papermill": {
     "duration": 1.839405,
     "end_time": "2023-05-22T15:53:30.169566",
     "exception": false,
     "start_time": "2023-05-22T15:53:28.330161",
     "status": "completed"
    },
    "tags": []
   },
   "outputs": [
    {
     "name": "stderr",
     "output_type": "stream",
     "text": [
      "/opt/conda/lib/python3.10/site-packages/scipy/__init__.py:146: UserWarning: A NumPy version >=1.16.5 and <1.23.0 is required for this version of SciPy (detected version 1.23.5\n",
      "  warnings.warn(f\"A NumPy version >={np_minversion} and <{np_maxversion}\"\n"
     ]
    }
   ],
   "source": [
    "import numpy as np\n",
    "import pandas as pd\n",
    "\n",
    "from sklearn import preprocessing\n",
    "from sklearn.model_selection import train_test_split\n",
    "from sklearn.linear_model import LogisticRegression\n",
    "from sklearn.tree import DecisionTreeClassifier\n",
    "from sklearn.metrics import f1_score"
   ]
  },
  {
   "cell_type": "markdown",
   "id": "b2b034e8",
   "metadata": {
    "papermill": {
     "duration": 0.017779,
     "end_time": "2023-05-22T15:53:30.205565",
     "exception": false,
     "start_time": "2023-05-22T15:53:30.187786",
     "status": "completed"
    },
    "tags": []
   },
   "source": [
    "# * Reading data"
   ]
  },
  {
   "cell_type": "code",
   "execution_count": 2,
   "id": "fa90476d",
   "metadata": {
    "execution": {
     "iopub.execute_input": "2023-05-22T15:53:30.243869Z",
     "iopub.status.busy": "2023-05-22T15:53:30.243151Z",
     "iopub.status.idle": "2023-05-22T15:53:30.341772Z",
     "shell.execute_reply": "2023-05-22T15:53:30.340233Z"
    },
    "papermill": {
     "duration": 0.122175,
     "end_time": "2023-05-22T15:53:30.345733",
     "exception": false,
     "start_time": "2023-05-22T15:53:30.223558",
     "status": "completed"
    },
    "tags": []
   },
   "outputs": [],
   "source": [
    "train_df = pd.read_csv(\"/kaggle/input/iitgaitab102022/Week5_train.csv\")"
   ]
  },
  {
   "cell_type": "code",
   "execution_count": 3,
   "id": "0ddc5bcf",
   "metadata": {
    "execution": {
     "iopub.execute_input": "2023-05-22T15:53:30.388931Z",
     "iopub.status.busy": "2023-05-22T15:53:30.387489Z",
     "iopub.status.idle": "2023-05-22T15:53:30.485109Z",
     "shell.execute_reply": "2023-05-22T15:53:30.484177Z"
    },
    "papermill": {
     "duration": 0.123253,
     "end_time": "2023-05-22T15:53:30.488709",
     "exception": false,
     "start_time": "2023-05-22T15:53:30.365456",
     "status": "completed"
    },
    "tags": []
   },
   "outputs": [],
   "source": [
    "test_df = pd.read_csv(\"/kaggle/input/iitgaitab102022/Week5_test.csv\")"
   ]
  },
  {
   "cell_type": "markdown",
   "id": "4fb28c19",
   "metadata": {
    "papermill": {
     "duration": 0.01805,
     "end_time": "2023-05-22T15:53:30.526452",
     "exception": false,
     "start_time": "2023-05-22T15:53:30.508402",
     "status": "completed"
    },
    "tags": []
   },
   "source": [
    "# Analysing given dataset"
   ]
  },
  {
   "cell_type": "code",
   "execution_count": 4,
   "id": "7b7ab86d",
   "metadata": {
    "execution": {
     "iopub.execute_input": "2023-05-22T15:53:30.565425Z",
     "iopub.status.busy": "2023-05-22T15:53:30.564619Z",
     "iopub.status.idle": "2023-05-22T15:53:30.571682Z",
     "shell.execute_reply": "2023-05-22T15:53:30.569797Z"
    },
    "papermill": {
     "duration": 0.030078,
     "end_time": "2023-05-22T15:53:30.574977",
     "exception": false,
     "start_time": "2023-05-22T15:53:30.544899",
     "status": "completed"
    },
    "tags": []
   },
   "outputs": [
    {
     "name": "stdout",
     "output_type": "stream",
     "text": [
      "(13840, 15)\n",
      "(13842, 16)\n"
     ]
    }
   ],
   "source": [
    "print(test_df.shape)\n",
    "print(train_df.shape)"
   ]
  },
  {
   "cell_type": "code",
   "execution_count": 5,
   "id": "c36495ac",
   "metadata": {
    "execution": {
     "iopub.execute_input": "2023-05-22T15:53:30.614563Z",
     "iopub.status.busy": "2023-05-22T15:53:30.613834Z",
     "iopub.status.idle": "2023-05-22T15:53:30.652339Z",
     "shell.execute_reply": "2023-05-22T15:53:30.651500Z"
    },
    "papermill": {
     "duration": 0.060472,
     "end_time": "2023-05-22T15:53:30.654533",
     "exception": false,
     "start_time": "2023-05-22T15:53:30.594061",
     "status": "completed"
    },
    "tags": []
   },
   "outputs": [
    {
     "data": {
      "text/html": [
       "<div>\n",
       "<style scoped>\n",
       "    .dataframe tbody tr th:only-of-type {\n",
       "        vertical-align: middle;\n",
       "    }\n",
       "\n",
       "    .dataframe tbody tr th {\n",
       "        vertical-align: top;\n",
       "    }\n",
       "\n",
       "    .dataframe thead th {\n",
       "        text-align: right;\n",
       "    }\n",
       "</style>\n",
       "<table border=\"1\" class=\"dataframe\">\n",
       "  <thead>\n",
       "    <tr style=\"text-align: right;\">\n",
       "      <th></th>\n",
       "      <th>id</th>\n",
       "      <th>Age</th>\n",
       "      <th>Working_class</th>\n",
       "      <th>fnlwgt</th>\n",
       "      <th>education</th>\n",
       "      <th>education_num</th>\n",
       "      <th>marital_status</th>\n",
       "      <th>Occupation</th>\n",
       "      <th>relationship</th>\n",
       "      <th>race</th>\n",
       "      <th>gender</th>\n",
       "      <th>capital_gain</th>\n",
       "      <th>capital_loss</th>\n",
       "      <th>hours_per_week</th>\n",
       "      <th>native_country</th>\n",
       "      <th>earning</th>\n",
       "    </tr>\n",
       "  </thead>\n",
       "  <tbody>\n",
       "    <tr>\n",
       "      <th>0</th>\n",
       "      <td>0</td>\n",
       "      <td>37</td>\n",
       "      <td>Private</td>\n",
       "      <td>280966</td>\n",
       "      <td>Bachelors</td>\n",
       "      <td>13</td>\n",
       "      <td>Married-civ-spouse</td>\n",
       "      <td>Handlers-cleaners</td>\n",
       "      <td>Husband</td>\n",
       "      <td>White</td>\n",
       "      <td>Male</td>\n",
       "      <td>0</td>\n",
       "      <td>0</td>\n",
       "      <td>40</td>\n",
       "      <td>United-States</td>\n",
       "      <td>0</td>\n",
       "    </tr>\n",
       "    <tr>\n",
       "      <th>1</th>\n",
       "      <td>1</td>\n",
       "      <td>41</td>\n",
       "      <td>Private</td>\n",
       "      <td>205153</td>\n",
       "      <td>Assoc-voc</td>\n",
       "      <td>11</td>\n",
       "      <td>Married-civ-spouse</td>\n",
       "      <td>Exec-managerial</td>\n",
       "      <td>Husband</td>\n",
       "      <td>White</td>\n",
       "      <td>Male</td>\n",
       "      <td>0</td>\n",
       "      <td>0</td>\n",
       "      <td>40</td>\n",
       "      <td>United-States</td>\n",
       "      <td>1</td>\n",
       "    </tr>\n",
       "    <tr>\n",
       "      <th>2</th>\n",
       "      <td>2</td>\n",
       "      <td>23</td>\n",
       "      <td>Private</td>\n",
       "      <td>237720</td>\n",
       "      <td>Bachelors</td>\n",
       "      <td>13</td>\n",
       "      <td>Never-married</td>\n",
       "      <td>Prof-specialty</td>\n",
       "      <td>Not-in-family</td>\n",
       "      <td>White</td>\n",
       "      <td>Male</td>\n",
       "      <td>0</td>\n",
       "      <td>0</td>\n",
       "      <td>38</td>\n",
       "      <td>United-States</td>\n",
       "      <td>1</td>\n",
       "    </tr>\n",
       "    <tr>\n",
       "      <th>3</th>\n",
       "      <td>3</td>\n",
       "      <td>35</td>\n",
       "      <td>Private</td>\n",
       "      <td>276153</td>\n",
       "      <td>Bachelors</td>\n",
       "      <td>13</td>\n",
       "      <td>Never-married</td>\n",
       "      <td>Tech-support</td>\n",
       "      <td>Not-in-family</td>\n",
       "      <td>Asian-Pac-Islander</td>\n",
       "      <td>Female</td>\n",
       "      <td>4650</td>\n",
       "      <td>0</td>\n",
       "      <td>40</td>\n",
       "      <td>United-States</td>\n",
       "      <td>1</td>\n",
       "    </tr>\n",
       "    <tr>\n",
       "      <th>4</th>\n",
       "      <td>4</td>\n",
       "      <td>28</td>\n",
       "      <td>Private</td>\n",
       "      <td>216178</td>\n",
       "      <td>HS-grad</td>\n",
       "      <td>9</td>\n",
       "      <td>Married-civ-spouse</td>\n",
       "      <td>Sales</td>\n",
       "      <td>Husband</td>\n",
       "      <td>White</td>\n",
       "      <td>Male</td>\n",
       "      <td>0</td>\n",
       "      <td>0</td>\n",
       "      <td>40</td>\n",
       "      <td>United-States</td>\n",
       "      <td>1</td>\n",
       "    </tr>\n",
       "    <tr>\n",
       "      <th>5</th>\n",
       "      <td>5</td>\n",
       "      <td>40</td>\n",
       "      <td>Private</td>\n",
       "      <td>238329</td>\n",
       "      <td>Bachelors</td>\n",
       "      <td>13</td>\n",
       "      <td>Never-married</td>\n",
       "      <td>Sales</td>\n",
       "      <td>Not-in-family</td>\n",
       "      <td>White</td>\n",
       "      <td>Female</td>\n",
       "      <td>0</td>\n",
       "      <td>0</td>\n",
       "      <td>45</td>\n",
       "      <td>United-States</td>\n",
       "      <td>1</td>\n",
       "    </tr>\n",
       "    <tr>\n",
       "      <th>6</th>\n",
       "      <td>6</td>\n",
       "      <td>27</td>\n",
       "      <td>Private</td>\n",
       "      <td>275110</td>\n",
       "      <td>HS-grad</td>\n",
       "      <td>9</td>\n",
       "      <td>Married-civ-spouse</td>\n",
       "      <td>Handlers-cleaners</td>\n",
       "      <td>Husband</td>\n",
       "      <td>Black</td>\n",
       "      <td>Male</td>\n",
       "      <td>0</td>\n",
       "      <td>0</td>\n",
       "      <td>80</td>\n",
       "      <td>United-States</td>\n",
       "      <td>0</td>\n",
       "    </tr>\n",
       "    <tr>\n",
       "      <th>7</th>\n",
       "      <td>7</td>\n",
       "      <td>46</td>\n",
       "      <td>Local-gov</td>\n",
       "      <td>301124</td>\n",
       "      <td>Masters</td>\n",
       "      <td>14</td>\n",
       "      <td>Never-married</td>\n",
       "      <td>Prof-specialty</td>\n",
       "      <td>Not-in-family</td>\n",
       "      <td>White</td>\n",
       "      <td>Female</td>\n",
       "      <td>0</td>\n",
       "      <td>1564</td>\n",
       "      <td>45</td>\n",
       "      <td>United-States</td>\n",
       "      <td>0</td>\n",
       "    </tr>\n",
       "    <tr>\n",
       "      <th>8</th>\n",
       "      <td>8</td>\n",
       "      <td>24</td>\n",
       "      <td>Private</td>\n",
       "      <td>195808</td>\n",
       "      <td>Some-college</td>\n",
       "      <td>10</td>\n",
       "      <td>Never-married</td>\n",
       "      <td>Machine-op-inspct</td>\n",
       "      <td>Own-child</td>\n",
       "      <td>White</td>\n",
       "      <td>Male</td>\n",
       "      <td>0</td>\n",
       "      <td>0</td>\n",
       "      <td>40</td>\n",
       "      <td>United-States</td>\n",
       "      <td>1</td>\n",
       "    </tr>\n",
       "    <tr>\n",
       "      <th>9</th>\n",
       "      <td>9</td>\n",
       "      <td>38</td>\n",
       "      <td>?</td>\n",
       "      <td>203482</td>\n",
       "      <td>7th-8th</td>\n",
       "      <td>4</td>\n",
       "      <td>Married-civ-spouse</td>\n",
       "      <td>?</td>\n",
       "      <td>Husband</td>\n",
       "      <td>White</td>\n",
       "      <td>Male</td>\n",
       "      <td>0</td>\n",
       "      <td>0</td>\n",
       "      <td>45</td>\n",
       "      <td>United-States</td>\n",
       "      <td>1</td>\n",
       "    </tr>\n",
       "  </tbody>\n",
       "</table>\n",
       "</div>"
      ],
      "text/plain": [
       "   id  Age Working_class  fnlwgt      education  education_num  \\\n",
       "0   0   37       Private  280966      Bachelors             13   \n",
       "1   1   41       Private  205153      Assoc-voc             11   \n",
       "2   2   23       Private  237720      Bachelors             13   \n",
       "3   3   35       Private  276153      Bachelors             13   \n",
       "4   4   28       Private  216178        HS-grad              9   \n",
       "5   5   40       Private  238329      Bachelors             13   \n",
       "6   6   27       Private  275110        HS-grad              9   \n",
       "7   7   46     Local-gov  301124        Masters             14   \n",
       "8   8   24       Private  195808   Some-college             10   \n",
       "9   9   38             ?  203482        7th-8th              4   \n",
       "\n",
       "        marital_status          Occupation    relationship  \\\n",
       "0   Married-civ-spouse   Handlers-cleaners         Husband   \n",
       "1   Married-civ-spouse     Exec-managerial         Husband   \n",
       "2        Never-married      Prof-specialty   Not-in-family   \n",
       "3        Never-married        Tech-support   Not-in-family   \n",
       "4   Married-civ-spouse               Sales         Husband   \n",
       "5        Never-married               Sales   Not-in-family   \n",
       "6   Married-civ-spouse   Handlers-cleaners         Husband   \n",
       "7        Never-married      Prof-specialty   Not-in-family   \n",
       "8        Never-married   Machine-op-inspct       Own-child   \n",
       "9   Married-civ-spouse                   ?         Husband   \n",
       "\n",
       "                  race   gender  capital_gain  capital_loss  hours_per_week  \\\n",
       "0                White     Male             0             0              40   \n",
       "1                White     Male             0             0              40   \n",
       "2                White     Male             0             0              38   \n",
       "3   Asian-Pac-Islander   Female          4650             0              40   \n",
       "4                White     Male             0             0              40   \n",
       "5                White   Female             0             0              45   \n",
       "6                Black     Male             0             0              80   \n",
       "7                White   Female             0          1564              45   \n",
       "8                White     Male             0             0              40   \n",
       "9                White     Male             0             0              45   \n",
       "\n",
       "   native_country  earning  \n",
       "0   United-States        0  \n",
       "1   United-States        1  \n",
       "2   United-States        1  \n",
       "3   United-States        1  \n",
       "4   United-States        1  \n",
       "5   United-States        1  \n",
       "6   United-States        0  \n",
       "7   United-States        0  \n",
       "8   United-States        1  \n",
       "9   United-States        1  "
      ]
     },
     "execution_count": 5,
     "metadata": {},
     "output_type": "execute_result"
    }
   ],
   "source": [
    "train_df.head(10)"
   ]
  },
  {
   "cell_type": "code",
   "execution_count": 6,
   "id": "3001084c",
   "metadata": {
    "execution": {
     "iopub.execute_input": "2023-05-22T15:53:30.693977Z",
     "iopub.status.busy": "2023-05-22T15:53:30.693531Z",
     "iopub.status.idle": "2023-05-22T15:53:30.701013Z",
     "shell.execute_reply": "2023-05-22T15:53:30.699634Z"
    },
    "papermill": {
     "duration": 0.030215,
     "end_time": "2023-05-22T15:53:30.703559",
     "exception": false,
     "start_time": "2023-05-22T15:53:30.673344",
     "status": "completed"
    },
    "tags": []
   },
   "outputs": [
    {
     "data": {
      "text/plain": [
       "Index(['id', 'Age', 'Working_class', 'fnlwgt', 'education', 'education_num',\n",
       "       'marital_status', 'Occupation', 'relationship', 'race', 'gender',\n",
       "       'capital_gain', 'capital_loss', 'hours_per_week', 'native_country',\n",
       "       'earning'],\n",
       "      dtype='object')"
      ]
     },
     "execution_count": 6,
     "metadata": {},
     "output_type": "execute_result"
    }
   ],
   "source": [
    "train_df.columns"
   ]
  },
  {
   "cell_type": "code",
   "execution_count": 7,
   "id": "353957c8",
   "metadata": {
    "execution": {
     "iopub.execute_input": "2023-05-22T15:53:30.743642Z",
     "iopub.status.busy": "2023-05-22T15:53:30.742975Z",
     "iopub.status.idle": "2023-05-22T15:53:31.051997Z",
     "shell.execute_reply": "2023-05-22T15:53:31.050843Z"
    },
    "papermill": {
     "duration": 0.33169,
     "end_time": "2023-05-22T15:53:31.054189",
     "exception": false,
     "start_time": "2023-05-22T15:53:30.722499",
     "status": "completed"
    },
    "tags": []
   },
   "outputs": [
    {
     "data": {
      "text/plain": [
       "<matplotlib.collections.PathCollection at 0x7e427c6c73d0>"
      ]
     },
     "execution_count": 7,
     "metadata": {},
     "output_type": "execute_result"
    },
    {
     "data": {
      "image/png": "[encoded data removed]",
      "text/plain": [
       "<Figure size 640x480 with 1 Axes>"
      ]
     },
     "metadata": {},
     "output_type": "display_data"
    }
   ],
   "source": [
    "import matplotlib.pyplot as plt\n",
    "%matplotlib inline\n",
    "plt.scatter(train_df.Age,train_df.capital_loss)"
   ]
  },
  {
   "cell_type": "markdown",
   "id": "319a6aed",
   "metadata": {
    "papermill": {
     "duration": 0.018805,
     "end_time": "2023-05-22T15:53:31.092170",
     "exception": false,
     "start_time": "2023-05-22T15:53:31.073365",
     "status": "completed"
    },
    "tags": []
   },
   "source": [
    "# Preparing Data "
   ]
  },
  {
   "cell_type": "code",
   "execution_count": 8,
   "id": "8d2e2966",
   "metadata": {
    "execution": {
     "iopub.execute_input": "2023-05-22T15:53:31.135008Z",
     "iopub.status.busy": "2023-05-22T15:53:31.134574Z",
     "iopub.status.idle": "2023-05-22T15:53:31.162613Z",
     "shell.execute_reply": "2023-05-22T15:53:31.161363Z"
    },
    "papermill": {
     "duration": 0.05282,
     "end_time": "2023-05-22T15:53:31.165695",
     "exception": false,
     "start_time": "2023-05-22T15:53:31.112875",
     "status": "completed"
    },
    "tags": []
   },
   "outputs": [],
   "source": [
    "y=train_df.earning\n",
    "id=test_df.id\n",
    "train=train_df.drop(['earning','id','fnlwgt'],axis='columns')\n",
    "test=test_df.drop(['id','fnlwgt'],axis='columns')\n",
    "data=pd.concat([train,test],axis=0)"
   ]
  },
  {
   "cell_type": "markdown",
   "id": "4ff0c4c6",
   "metadata": {
    "papermill": {
     "duration": 0.019272,
     "end_time": "2023-05-22T15:53:31.206378",
     "exception": false,
     "start_time": "2023-05-22T15:53:31.187106",
     "status": "completed"
    },
    "tags": []
   },
   "source": [
    "*Checking for NAN*"
   ]
  },
  {
   "cell_type": "code",
   "execution_count": 9,
   "id": "2c6c81fd",
   "metadata": {
    "execution": {
     "iopub.execute_input": "2023-05-22T15:53:31.247057Z",
     "iopub.status.busy": "2023-05-22T15:53:31.246612Z",
     "iopub.status.idle": "2023-05-22T15:53:31.282462Z",
     "shell.execute_reply": "2023-05-22T15:53:31.281148Z"
    },
    "papermill": {
     "duration": 0.058749,
     "end_time": "2023-05-22T15:53:31.284791",
     "exception": false,
     "start_time": "2023-05-22T15:53:31.226042",
     "status": "completed"
    },
    "tags": []
   },
   "outputs": [
    {
     "data": {
      "text/plain": [
       "[]"
      ]
     },
     "execution_count": 9,
     "metadata": {},
     "output_type": "execute_result"
    }
   ],
   "source": [
    "nan_cols = [i for i in data.columns if data[i].isnull().any()]\n",
    "nan_cols"
   ]
  },
  {
   "cell_type": "markdown",
   "id": "366a8652",
   "metadata": {
    "papermill": {
     "duration": 0.020229,
     "end_time": "2023-05-22T15:53:31.326614",
     "exception": false,
     "start_time": "2023-05-22T15:53:31.306385",
     "status": "completed"
    },
    "tags": []
   },
   "source": [
    "*Removing \" ?\" *"
   ]
  },
  {
   "cell_type": "code",
   "execution_count": 10,
   "id": "62360345",
   "metadata": {
    "execution": {
     "iopub.execute_input": "2023-05-22T15:53:31.368257Z",
     "iopub.status.busy": "2023-05-22T15:53:31.367566Z",
     "iopub.status.idle": "2023-05-22T15:53:31.393821Z",
     "shell.execute_reply": "2023-05-22T15:53:31.392586Z"
    },
    "papermill": {
     "duration": 0.050479,
     "end_time": "2023-05-22T15:53:31.396653",
     "exception": false,
     "start_time": "2023-05-22T15:53:31.346174",
     "status": "completed"
    },
    "tags": []
   },
   "outputs": [],
   "source": [
    "datas = data.replace(' ?',value=np.NaN)\n",
    "#datas['Working_class'] = datas['Working_class'].apply(lambda x: np.NaN if x == ' ?' else x)\n",
    "#datas['Working_class'] = datas['Working_class'].apply(lambda x: np.NaN if x == ' ?' else x)"
   ]
  },
  {
   "cell_type": "markdown",
   "id": "7965bab7",
   "metadata": {
    "papermill": {
     "duration": 0.019259,
     "end_time": "2023-05-22T15:53:31.435748",
     "exception": false,
     "start_time": "2023-05-22T15:53:31.416489",
     "status": "completed"
    },
    "tags": []
   },
   "source": [
    "*Filling* **NAN** *with suitable data *"
   ]
  },
  {
   "cell_type": "code",
   "execution_count": 11,
   "id": "b202233c",
   "metadata": {
    "execution": {
     "iopub.execute_input": "2023-05-22T15:53:31.476249Z",
     "iopub.status.busy": "2023-05-22T15:53:31.475772Z",
     "iopub.status.idle": "2023-05-22T15:53:31.511456Z",
     "shell.execute_reply": "2023-05-22T15:53:31.510302Z"
    },
    "papermill": {
     "duration": 0.059165,
     "end_time": "2023-05-22T15:53:31.514248",
     "exception": false,
     "start_time": "2023-05-22T15:53:31.455083",
     "status": "completed"
    },
    "tags": []
   },
   "outputs": [
    {
     "data": {
      "text/plain": [
       "['Working_class', 'Occupation', 'native_country']"
      ]
     },
     "execution_count": 11,
     "metadata": {},
     "output_type": "execute_result"
    }
   ],
   "source": [
    "nan_cols = [i for i in datas.columns if datas[i].isnull().any()]\n",
    "nan_cols"
   ]
  },
  {
   "cell_type": "code",
   "execution_count": 12,
   "id": "7cce558c",
   "metadata": {
    "execution": {
     "iopub.execute_input": "2023-05-22T15:53:31.556002Z",
     "iopub.status.busy": "2023-05-22T15:53:31.555592Z",
     "iopub.status.idle": "2023-05-22T15:53:31.568896Z",
     "shell.execute_reply": "2023-05-22T15:53:31.568069Z"
    },
    "papermill": {
     "duration": 0.036637,
     "end_time": "2023-05-22T15:53:31.571166",
     "exception": false,
     "start_time": "2023-05-22T15:53:31.534529",
     "status": "completed"
    },
    "tags": []
   },
   "outputs": [
    {
     "data": {
      "text/plain": [
       "0        24524\n",
       "15024      513\n",
       "7688       410\n",
       "7298       364\n",
       "99999      244\n",
       "         ...  \n",
       "22040        1\n",
       "1455         1\n",
       "1639         1\n",
       "3456         1\n",
       "7262         1\n",
       "Name: capital_gain, Length: 118, dtype: int64"
      ]
     },
     "execution_count": 12,
     "metadata": {},
     "output_type": "execute_result"
    }
   ],
   "source": [
    "datas['capital_gain'].value_counts()"
   ]
  },
  {
   "cell_type": "code",
   "execution_count": 13,
   "id": "0db09dd2",
   "metadata": {
    "execution": {
     "iopub.execute_input": "2023-05-22T15:53:31.613624Z",
     "iopub.status.busy": "2023-05-22T15:53:31.612963Z",
     "iopub.status.idle": "2023-05-22T15:53:31.617196Z",
     "shell.execute_reply": "2023-05-22T15:53:31.616053Z"
    },
    "papermill": {
     "duration": 0.028468,
     "end_time": "2023-05-22T15:53:31.620055",
     "exception": false,
     "start_time": "2023-05-22T15:53:31.591587",
     "status": "completed"
    },
    "tags": []
   },
   "outputs": [],
   "source": [
    "#datas['fnlwgt'].nunique()"
   ]
  },
  {
   "cell_type": "code",
   "execution_count": 14,
   "id": "d750635a",
   "metadata": {
    "execution": {
     "iopub.execute_input": "2023-05-22T15:53:31.663839Z",
     "iopub.status.busy": "2023-05-22T15:53:31.663011Z",
     "iopub.status.idle": "2023-05-22T15:53:31.682303Z",
     "shell.execute_reply": "2023-05-22T15:53:31.681303Z"
    },
    "papermill": {
     "duration": 0.044179,
     "end_time": "2023-05-22T15:53:31.684601",
     "exception": false,
     "start_time": "2023-05-22T15:53:31.640422",
     "status": "completed"
    },
    "tags": []
   },
   "outputs": [
    {
     "data": {
      "text/html": [
       "<div>\n",
       "<style scoped>\n",
       "    .dataframe tbody tr th:only-of-type {\n",
       "        vertical-align: middle;\n",
       "    }\n",
       "\n",
       "    .dataframe tbody tr th {\n",
       "        vertical-align: top;\n",
       "    }\n",
       "\n",
       "    .dataframe thead th {\n",
       "        text-align: right;\n",
       "    }\n",
       "</style>\n",
       "<table border=\"1\" class=\"dataframe\">\n",
       "  <thead>\n",
       "    <tr style=\"text-align: right;\">\n",
       "      <th></th>\n",
       "      <th>Age</th>\n",
       "      <th>Working_class</th>\n",
       "      <th>education</th>\n",
       "      <th>education_num</th>\n",
       "      <th>marital_status</th>\n",
       "      <th>Occupation</th>\n",
       "      <th>relationship</th>\n",
       "      <th>race</th>\n",
       "      <th>gender</th>\n",
       "      <th>capital_gain</th>\n",
       "      <th>capital_loss</th>\n",
       "      <th>hours_per_week</th>\n",
       "      <th>native_country</th>\n",
       "    </tr>\n",
       "  </thead>\n",
       "  <tbody>\n",
       "    <tr>\n",
       "      <th>0</th>\n",
       "      <td>37</td>\n",
       "      <td>Private</td>\n",
       "      <td>Bachelors</td>\n",
       "      <td>13</td>\n",
       "      <td>Married-civ-spouse</td>\n",
       "      <td>Handlers-cleaners</td>\n",
       "      <td>Husband</td>\n",
       "      <td>White</td>\n",
       "      <td>Male</td>\n",
       "      <td>0</td>\n",
       "      <td>0</td>\n",
       "      <td>40</td>\n",
       "      <td>United-States</td>\n",
       "    </tr>\n",
       "    <tr>\n",
       "      <th>1</th>\n",
       "      <td>41</td>\n",
       "      <td>Private</td>\n",
       "      <td>Assoc-voc</td>\n",
       "      <td>11</td>\n",
       "      <td>Married-civ-spouse</td>\n",
       "      <td>Exec-managerial</td>\n",
       "      <td>Husband</td>\n",
       "      <td>White</td>\n",
       "      <td>Male</td>\n",
       "      <td>0</td>\n",
       "      <td>0</td>\n",
       "      <td>40</td>\n",
       "      <td>United-States</td>\n",
       "    </tr>\n",
       "    <tr>\n",
       "      <th>2</th>\n",
       "      <td>23</td>\n",
       "      <td>Private</td>\n",
       "      <td>Bachelors</td>\n",
       "      <td>13</td>\n",
       "      <td>Never-married</td>\n",
       "      <td>Prof-specialty</td>\n",
       "      <td>Not-in-family</td>\n",
       "      <td>White</td>\n",
       "      <td>Male</td>\n",
       "      <td>0</td>\n",
       "      <td>0</td>\n",
       "      <td>38</td>\n",
       "      <td>United-States</td>\n",
       "    </tr>\n",
       "    <tr>\n",
       "      <th>3</th>\n",
       "      <td>35</td>\n",
       "      <td>Private</td>\n",
       "      <td>Bachelors</td>\n",
       "      <td>13</td>\n",
       "      <td>Never-married</td>\n",
       "      <td>Tech-support</td>\n",
       "      <td>Not-in-family</td>\n",
       "      <td>Asian-Pac-Islander</td>\n",
       "      <td>Female</td>\n",
       "      <td>4650</td>\n",
       "      <td>0</td>\n",
       "      <td>40</td>\n",
       "      <td>United-States</td>\n",
       "    </tr>\n",
       "    <tr>\n",
       "      <th>4</th>\n",
       "      <td>28</td>\n",
       "      <td>Private</td>\n",
       "      <td>HS-grad</td>\n",
       "      <td>9</td>\n",
       "      <td>Married-civ-spouse</td>\n",
       "      <td>Sales</td>\n",
       "      <td>Husband</td>\n",
       "      <td>White</td>\n",
       "      <td>Male</td>\n",
       "      <td>0</td>\n",
       "      <td>0</td>\n",
       "      <td>40</td>\n",
       "      <td>United-States</td>\n",
       "    </tr>\n",
       "    <tr>\n",
       "      <th>5</th>\n",
       "      <td>40</td>\n",
       "      <td>Private</td>\n",
       "      <td>Bachelors</td>\n",
       "      <td>13</td>\n",
       "      <td>Never-married</td>\n",
       "      <td>Sales</td>\n",
       "      <td>Not-in-family</td>\n",
       "      <td>White</td>\n",
       "      <td>Female</td>\n",
       "      <td>0</td>\n",
       "      <td>0</td>\n",
       "      <td>45</td>\n",
       "      <td>United-States</td>\n",
       "    </tr>\n",
       "    <tr>\n",
       "      <th>6</th>\n",
       "      <td>27</td>\n",
       "      <td>Private</td>\n",
       "      <td>HS-grad</td>\n",
       "      <td>9</td>\n",
       "      <td>Married-civ-spouse</td>\n",
       "      <td>Handlers-cleaners</td>\n",
       "      <td>Husband</td>\n",
       "      <td>Black</td>\n",
       "      <td>Male</td>\n",
       "      <td>0</td>\n",
       "      <td>0</td>\n",
       "      <td>80</td>\n",
       "      <td>United-States</td>\n",
       "    </tr>\n",
       "  </tbody>\n",
       "</table>\n",
       "</div>"
      ],
      "text/plain": [
       "   Age Working_class   education  education_num       marital_status  \\\n",
       "0   37       Private   Bachelors             13   Married-civ-spouse   \n",
       "1   41       Private   Assoc-voc             11   Married-civ-spouse   \n",
       "2   23       Private   Bachelors             13        Never-married   \n",
       "3   35       Private   Bachelors             13        Never-married   \n",
       "4   28       Private     HS-grad              9   Married-civ-spouse   \n",
       "5   40       Private   Bachelors             13        Never-married   \n",
       "6   27       Private     HS-grad              9   Married-civ-spouse   \n",
       "\n",
       "           Occupation    relationship                 race   gender  \\\n",
       "0   Handlers-cleaners         Husband                White     Male   \n",
       "1     Exec-managerial         Husband                White     Male   \n",
       "2      Prof-specialty   Not-in-family                White     Male   \n",
       "3        Tech-support   Not-in-family   Asian-Pac-Islander   Female   \n",
       "4               Sales         Husband                White     Male   \n",
       "5               Sales   Not-in-family                White   Female   \n",
       "6   Handlers-cleaners         Husband                Black     Male   \n",
       "\n",
       "   capital_gain  capital_loss  hours_per_week  native_country  \n",
       "0             0             0              40   United-States  \n",
       "1             0             0              40   United-States  \n",
       "2             0             0              38   United-States  \n",
       "3          4650             0              40   United-States  \n",
       "4             0             0              40   United-States  \n",
       "5             0             0              45   United-States  \n",
       "6             0             0              80   United-States  "
      ]
     },
     "execution_count": 14,
     "metadata": {},
     "output_type": "execute_result"
    }
   ],
   "source": [
    "datas.head(7)"
   ]
  },
  {
   "cell_type": "code",
   "execution_count": 15,
   "id": "15000b40",
   "metadata": {
    "execution": {
     "iopub.execute_input": "2023-05-22T15:53:31.727131Z",
     "iopub.status.busy": "2023-05-22T15:53:31.726460Z",
     "iopub.status.idle": "2023-05-22T15:53:31.758172Z",
     "shell.execute_reply": "2023-05-22T15:53:31.757142Z"
    },
    "papermill": {
     "duration": 0.055978,
     "end_time": "2023-05-22T15:53:31.760706",
     "exception": false,
     "start_time": "2023-05-22T15:53:31.704728",
     "status": "completed"
    },
    "tags": []
   },
   "outputs": [],
   "source": [
    "datas=datas.fillna({\n",
    "       'Working_class':'Private',\n",
    "        'Occupation':'Prof-specialty',\n",
    "     'native_country':'United-States'\n",
    "})"
   ]
  },
  {
   "cell_type": "code",
   "execution_count": 16,
   "id": "5fccd15e",
   "metadata": {
    "execution": {
     "iopub.execute_input": "2023-05-22T15:53:31.803483Z",
     "iopub.status.busy": "2023-05-22T15:53:31.803087Z",
     "iopub.status.idle": "2023-05-22T15:53:31.839496Z",
     "shell.execute_reply": "2023-05-22T15:53:31.838345Z"
    },
    "papermill": {
     "duration": 0.060372,
     "end_time": "2023-05-22T15:53:31.841865",
     "exception": false,
     "start_time": "2023-05-22T15:53:31.781493",
     "status": "completed"
    },
    "tags": []
   },
   "outputs": [
    {
     "data": {
      "text/plain": [
       "[]"
      ]
     },
     "execution_count": 16,
     "metadata": {},
     "output_type": "execute_result"
    }
   ],
   "source": [
    "nan_cols = [i for i in datas.columns if datas[i].isnull().any()]\n",
    "nan_cols"
   ]
  },
  {
   "cell_type": "code",
   "execution_count": 17,
   "id": "63c8e475",
   "metadata": {
    "execution": {
     "iopub.execute_input": "2023-05-22T15:53:31.885379Z",
     "iopub.status.busy": "2023-05-22T15:53:31.884944Z",
     "iopub.status.idle": "2023-05-22T15:53:31.890175Z",
     "shell.execute_reply": "2023-05-22T15:53:31.888956Z"
    },
    "papermill": {
     "duration": 0.031337,
     "end_time": "2023-05-22T15:53:31.893580",
     "exception": false,
     "start_time": "2023-05-22T15:53:31.862243",
     "status": "completed"
    },
    "tags": []
   },
   "outputs": [],
   "source": [
    "# from mlxtend.preprocessing import minmax_scaling\n",
    "# datas = minmax_scaling(datas,columns=[0])"
   ]
  },
  {
   "cell_type": "markdown",
   "id": "c256b012",
   "metadata": {
    "papermill": {
     "duration": 0.020189,
     "end_time": "2023-05-22T15:53:31.938024",
     "exception": false,
     "start_time": "2023-05-22T15:53:31.917835",
     "status": "completed"
    },
    "tags": []
   },
   "source": [
    "# Preparing Dataframe to train the model"
   ]
  },
  {
   "cell_type": "code",
   "execution_count": 18,
   "id": "c78f8848",
   "metadata": {
    "execution": {
     "iopub.execute_input": "2023-05-22T15:53:31.981646Z",
     "iopub.status.busy": "2023-05-22T15:53:31.980749Z",
     "iopub.status.idle": "2023-05-22T15:53:32.050466Z",
     "shell.execute_reply": "2023-05-22T15:53:32.049102Z"
    },
    "papermill": {
     "duration": 0.095028,
     "end_time": "2023-05-22T15:53:32.053271",
     "exception": false,
     "start_time": "2023-05-22T15:53:31.958243",
     "status": "completed"
    },
    "tags": []
   },
   "outputs": [],
   "source": [
    "dataset = pd.get_dummies(datas, drop_first=True)"
   ]
  },
  {
   "cell_type": "code",
   "execution_count": 19,
   "id": "0bf0c8ba",
   "metadata": {
    "execution": {
     "iopub.execute_input": "2023-05-22T15:53:32.097596Z",
     "iopub.status.busy": "2023-05-22T15:53:32.097190Z",
     "iopub.status.idle": "2023-05-22T15:53:32.104017Z",
     "shell.execute_reply": "2023-05-22T15:53:32.102585Z"
    },
    "papermill": {
     "duration": 0.032961,
     "end_time": "2023-05-22T15:53:32.106522",
     "exception": false,
     "start_time": "2023-05-22T15:53:32.073561",
     "status": "completed"
    },
    "tags": []
   },
   "outputs": [],
   "source": [
    "X=dataset.iloc[:13842,:]\n",
    "test=dataset.iloc[13842:,:]"
   ]
  },
  {
   "cell_type": "code",
   "execution_count": 20,
   "id": "4ab02a07",
   "metadata": {
    "execution": {
     "iopub.execute_input": "2023-05-22T15:53:32.149887Z",
     "iopub.status.busy": "2023-05-22T15:53:32.149043Z",
     "iopub.status.idle": "2023-05-22T15:53:32.170487Z",
     "shell.execute_reply": "2023-05-22T15:53:32.169399Z"
    },
    "papermill": {
     "duration": 0.045876,
     "end_time": "2023-05-22T15:53:32.173396",
     "exception": false,
     "start_time": "2023-05-22T15:53:32.127520",
     "status": "completed"
    },
    "tags": []
   },
   "outputs": [
    {
     "data": {
      "text/html": [
       "<div>\n",
       "<style scoped>\n",
       "    .dataframe tbody tr th:only-of-type {\n",
       "        vertical-align: middle;\n",
       "    }\n",
       "\n",
       "    .dataframe tbody tr th {\n",
       "        vertical-align: top;\n",
       "    }\n",
       "\n",
       "    .dataframe thead th {\n",
       "        text-align: right;\n",
       "    }\n",
       "</style>\n",
       "<table border=\"1\" class=\"dataframe\">\n",
       "  <thead>\n",
       "    <tr style=\"text-align: right;\">\n",
       "      <th></th>\n",
       "      <th>Age</th>\n",
       "      <th>education_num</th>\n",
       "      <th>capital_gain</th>\n",
       "      <th>capital_loss</th>\n",
       "      <th>hours_per_week</th>\n",
       "      <th>Working_class_ Local-gov</th>\n",
       "      <th>Working_class_ Private</th>\n",
       "      <th>Working_class_ Self-emp-inc</th>\n",
       "      <th>Working_class_ Self-emp-not-inc</th>\n",
       "      <th>Working_class_ State-gov</th>\n",
       "      <th>...</th>\n",
       "      <th>native_country_ Puerto-Rico</th>\n",
       "      <th>native_country_ Scotland</th>\n",
       "      <th>native_country_ South</th>\n",
       "      <th>native_country_ Taiwan</th>\n",
       "      <th>native_country_ Thailand</th>\n",
       "      <th>native_country_ Trinadad&amp;Tobago</th>\n",
       "      <th>native_country_ United-States</th>\n",
       "      <th>native_country_ Vietnam</th>\n",
       "      <th>native_country_ Yugoslavia</th>\n",
       "      <th>native_country_United-States</th>\n",
       "    </tr>\n",
       "  </thead>\n",
       "  <tbody>\n",
       "    <tr>\n",
       "      <th>13837</th>\n",
       "      <td>48</td>\n",
       "      <td>9</td>\n",
       "      <td>0</td>\n",
       "      <td>0</td>\n",
       "      <td>45</td>\n",
       "      <td>0</td>\n",
       "      <td>1</td>\n",
       "      <td>0</td>\n",
       "      <td>0</td>\n",
       "      <td>0</td>\n",
       "      <td>...</td>\n",
       "      <td>0</td>\n",
       "      <td>0</td>\n",
       "      <td>0</td>\n",
       "      <td>0</td>\n",
       "      <td>0</td>\n",
       "      <td>0</td>\n",
       "      <td>1</td>\n",
       "      <td>0</td>\n",
       "      <td>0</td>\n",
       "      <td>0</td>\n",
       "    </tr>\n",
       "    <tr>\n",
       "      <th>13838</th>\n",
       "      <td>37</td>\n",
       "      <td>15</td>\n",
       "      <td>0</td>\n",
       "      <td>0</td>\n",
       "      <td>60</td>\n",
       "      <td>0</td>\n",
       "      <td>0</td>\n",
       "      <td>0</td>\n",
       "      <td>0</td>\n",
       "      <td>1</td>\n",
       "      <td>...</td>\n",
       "      <td>0</td>\n",
       "      <td>0</td>\n",
       "      <td>0</td>\n",
       "      <td>0</td>\n",
       "      <td>0</td>\n",
       "      <td>0</td>\n",
       "      <td>1</td>\n",
       "      <td>0</td>\n",
       "      <td>0</td>\n",
       "      <td>0</td>\n",
       "    </tr>\n",
       "    <tr>\n",
       "      <th>13839</th>\n",
       "      <td>22</td>\n",
       "      <td>10</td>\n",
       "      <td>0</td>\n",
       "      <td>0</td>\n",
       "      <td>30</td>\n",
       "      <td>0</td>\n",
       "      <td>1</td>\n",
       "      <td>0</td>\n",
       "      <td>0</td>\n",
       "      <td>0</td>\n",
       "      <td>...</td>\n",
       "      <td>0</td>\n",
       "      <td>0</td>\n",
       "      <td>0</td>\n",
       "      <td>0</td>\n",
       "      <td>0</td>\n",
       "      <td>0</td>\n",
       "      <td>1</td>\n",
       "      <td>0</td>\n",
       "      <td>0</td>\n",
       "      <td>0</td>\n",
       "    </tr>\n",
       "    <tr>\n",
       "      <th>13840</th>\n",
       "      <td>43</td>\n",
       "      <td>13</td>\n",
       "      <td>0</td>\n",
       "      <td>0</td>\n",
       "      <td>60</td>\n",
       "      <td>0</td>\n",
       "      <td>0</td>\n",
       "      <td>1</td>\n",
       "      <td>0</td>\n",
       "      <td>0</td>\n",
       "      <td>...</td>\n",
       "      <td>0</td>\n",
       "      <td>0</td>\n",
       "      <td>0</td>\n",
       "      <td>0</td>\n",
       "      <td>0</td>\n",
       "      <td>0</td>\n",
       "      <td>1</td>\n",
       "      <td>0</td>\n",
       "      <td>0</td>\n",
       "      <td>0</td>\n",
       "    </tr>\n",
       "    <tr>\n",
       "      <th>13841</th>\n",
       "      <td>47</td>\n",
       "      <td>9</td>\n",
       "      <td>0</td>\n",
       "      <td>1504</td>\n",
       "      <td>35</td>\n",
       "      <td>0</td>\n",
       "      <td>1</td>\n",
       "      <td>0</td>\n",
       "      <td>0</td>\n",
       "      <td>0</td>\n",
       "      <td>...</td>\n",
       "      <td>0</td>\n",
       "      <td>0</td>\n",
       "      <td>0</td>\n",
       "      <td>0</td>\n",
       "      <td>0</td>\n",
       "      <td>0</td>\n",
       "      <td>1</td>\n",
       "      <td>0</td>\n",
       "      <td>0</td>\n",
       "      <td>0</td>\n",
       "    </tr>\n",
       "  </tbody>\n",
       "</table>\n",
       "<p>5 rows × 97 columns</p>\n",
       "</div>"
      ],
      "text/plain": [
       "       Age  education_num  capital_gain  capital_loss  hours_per_week  \\\n",
       "13837   48              9             0             0              45   \n",
       "13838   37             15             0             0              60   \n",
       "13839   22             10             0             0              30   \n",
       "13840   43             13             0             0              60   \n",
       "13841   47              9             0          1504              35   \n",
       "\n",
       "       Working_class_ Local-gov  Working_class_ Private  \\\n",
       "13837                         0                       1   \n",
       "13838                         0                       0   \n",
       "13839                         0                       1   \n",
       "13840                         0                       0   \n",
       "13841                         0                       1   \n",
       "\n",
       "       Working_class_ Self-emp-inc  Working_class_ Self-emp-not-inc  \\\n",
       "13837                            0                                0   \n",
       "13838                            0                                0   \n",
       "13839                            0                                0   \n",
       "13840                            1                                0   \n",
       "13841                            0                                0   \n",
       "\n",
       "       Working_class_ State-gov  ...  native_country_ Puerto-Rico  \\\n",
       "13837                         0  ...                            0   \n",
       "13838                         1  ...                            0   \n",
       "13839                         0  ...                            0   \n",
       "13840                         0  ...                            0   \n",
       "13841                         0  ...                            0   \n",
       "\n",
       "       native_country_ Scotland  native_country_ South  \\\n",
       "13837                         0                      0   \n",
       "13838                         0                      0   \n",
       "13839                         0                      0   \n",
       "13840                         0                      0   \n",
       "13841                         0                      0   \n",
       "\n",
       "       native_country_ Taiwan  native_country_ Thailand  \\\n",
       "13837                       0                         0   \n",
       "13838                       0                         0   \n",
       "13839                       0                         0   \n",
       "13840                       0                         0   \n",
       "13841                       0                         0   \n",
       "\n",
       "       native_country_ Trinadad&Tobago  native_country_ United-States  \\\n",
       "13837                                0                              1   \n",
       "13838                                0                              1   \n",
       "13839                                0                              1   \n",
       "13840                                0                              1   \n",
       "13841                                0                              1   \n",
       "\n",
       "       native_country_ Vietnam  native_country_ Yugoslavia  \\\n",
       "13837                        0                           0   \n",
       "13838                        0                           0   \n",
       "13839                        0                           0   \n",
       "13840                        0                           0   \n",
       "13841                        0                           0   \n",
       "\n",
       "       native_country_United-States  \n",
       "13837                             0  \n",
       "13838                             0  \n",
       "13839                             0  \n",
       "13840                             0  \n",
       "13841                             0  \n",
       "\n",
       "[5 rows x 97 columns]"
      ]
     },
     "execution_count": 20,
     "metadata": {},
     "output_type": "execute_result"
    }
   ],
   "source": [
    "#train_df.head()\n",
    "X.tail()"
   ]
  },
  {
   "cell_type": "code",
   "execution_count": 21,
   "id": "01c7183c",
   "metadata": {
    "execution": {
     "iopub.execute_input": "2023-05-22T15:53:32.218163Z",
     "iopub.status.busy": "2023-05-22T15:53:32.217508Z",
     "iopub.status.idle": "2023-05-22T15:53:32.225511Z",
     "shell.execute_reply": "2023-05-22T15:53:32.224432Z"
    },
    "papermill": {
     "duration": 0.032706,
     "end_time": "2023-05-22T15:53:32.227887",
     "exception": false,
     "start_time": "2023-05-22T15:53:32.195181",
     "status": "completed"
    },
    "tags": []
   },
   "outputs": [
    {
     "data": {
      "text/plain": [
       "13837    1\n",
       "13838    0\n",
       "13839    1\n",
       "13840    0\n",
       "13841    1\n",
       "Name: earning, dtype: int64"
      ]
     },
     "execution_count": 21,
     "metadata": {},
     "output_type": "execute_result"
    }
   ],
   "source": [
    "y.tail()"
   ]
  },
  {
   "cell_type": "code",
   "execution_count": 22,
   "id": "5c93b5fd",
   "metadata": {
    "execution": {
     "iopub.execute_input": "2023-05-22T15:53:32.271965Z",
     "iopub.status.busy": "2023-05-22T15:53:32.271070Z",
     "iopub.status.idle": "2023-05-22T15:53:32.306307Z",
     "shell.execute_reply": "2023-05-22T15:53:32.305023Z"
    },
    "papermill": {
     "duration": 0.060377,
     "end_time": "2023-05-22T15:53:32.309081",
     "exception": false,
     "start_time": "2023-05-22T15:53:32.248704",
     "status": "completed"
    },
    "tags": []
   },
   "outputs": [
    {
     "data": {
      "text/plain": [
       "Age                71\n",
       "Working_class       8\n",
       "education          16\n",
       "education_num      16\n",
       "marital_status      7\n",
       "Occupation         15\n",
       "relationship        6\n",
       "race                5\n",
       "gender              2\n",
       "capital_gain      118\n",
       "capital_loss       89\n",
       "hours_per_week     95\n",
       "native_country     41\n",
       "dtype: int64"
      ]
     },
     "execution_count": 22,
     "metadata": {},
     "output_type": "execute_result"
    }
   ],
   "source": [
    "datas.nunique()"
   ]
  },
  {
   "cell_type": "markdown",
   "id": "cea73455",
   "metadata": {
    "papermill": {
     "duration": 0.020919,
     "end_time": "2023-05-22T15:53:32.351289",
     "exception": false,
     "start_time": "2023-05-22T15:53:32.330370",
     "status": "completed"
    },
    "tags": []
   },
   "source": [
    "### Performing the Train Test Split"
   ]
  },
  {
   "cell_type": "code",
   "execution_count": 23,
   "id": "f715c170",
   "metadata": {
    "execution": {
     "iopub.execute_input": "2023-05-22T15:53:32.395753Z",
     "iopub.status.busy": "2023-05-22T15:53:32.395020Z",
     "iopub.status.idle": "2023-05-22T15:53:32.412414Z",
     "shell.execute_reply": "2023-05-22T15:53:32.411267Z"
    },
    "papermill": {
     "duration": 0.042801,
     "end_time": "2023-05-22T15:53:32.415228",
     "exception": false,
     "start_time": "2023-05-22T15:53:32.372427",
     "status": "completed"
    },
    "tags": []
   },
   "outputs": [],
   "source": [
    "X_train, X_test, y_train, y_test = train_test_split(X, y, test_size = 0.1)"
   ]
  },
  {
   "cell_type": "code",
   "execution_count": 24,
   "id": "061f8fcd",
   "metadata": {
    "execution": {
     "iopub.execute_input": "2023-05-22T15:53:32.459600Z",
     "iopub.status.busy": "2023-05-22T15:53:32.459200Z",
     "iopub.status.idle": "2023-05-22T15:53:32.466682Z",
     "shell.execute_reply": "2023-05-22T15:53:32.465195Z"
    },
    "papermill": {
     "duration": 0.032756,
     "end_time": "2023-05-22T15:53:32.469236",
     "exception": false,
     "start_time": "2023-05-22T15:53:32.436480",
     "status": "completed"
    },
    "tags": []
   },
   "outputs": [
    {
     "name": "stdout",
     "output_type": "stream",
     "text": [
      "1    7196\n",
      "0    5261\n",
      "Name: earning, dtype: int64\n"
     ]
    }
   ],
   "source": [
    "print(y_train.value_counts())\n"
   ]
  },
  {
   "cell_type": "code",
   "execution_count": 25,
   "id": "24832807",
   "metadata": {
    "execution": {
     "iopub.execute_input": "2023-05-22T15:53:32.514341Z",
     "iopub.status.busy": "2023-05-22T15:53:32.513540Z",
     "iopub.status.idle": "2023-05-22T15:53:32.522054Z",
     "shell.execute_reply": "2023-05-22T15:53:32.521009Z"
    },
    "papermill": {
     "duration": 0.033805,
     "end_time": "2023-05-22T15:53:32.524399",
     "exception": false,
     "start_time": "2023-05-22T15:53:32.490594",
     "status": "completed"
    },
    "tags": []
   },
   "outputs": [
    {
     "data": {
      "text/plain": [
       "1    803\n",
       "0    582\n",
       "Name: earning, dtype: int64"
      ]
     },
     "execution_count": 25,
     "metadata": {},
     "output_type": "execute_result"
    }
   ],
   "source": [
    "y_test.value_counts()"
   ]
  },
  {
   "cell_type": "markdown",
   "id": "ec280651",
   "metadata": {
    "papermill": {
     "duration": 0.021303,
     "end_time": "2023-05-22T15:53:32.566889",
     "exception": false,
     "start_time": "2023-05-22T15:53:32.545586",
     "status": "completed"
    },
    "tags": []
   },
   "source": [
    "# Training"
   ]
  },
  {
   "cell_type": "code",
   "execution_count": 26,
   "id": "0bd33eba",
   "metadata": {
    "execution": {
     "iopub.execute_input": "2023-05-22T15:53:32.612027Z",
     "iopub.status.busy": "2023-05-22T15:53:32.611338Z",
     "iopub.status.idle": "2023-05-22T15:53:32.617083Z",
     "shell.execute_reply": "2023-05-22T15:53:32.616004Z"
    },
    "papermill": {
     "duration": 0.031461,
     "end_time": "2023-05-22T15:53:32.619649",
     "exception": false,
     "start_time": "2023-05-22T15:53:32.588188",
     "status": "completed"
    },
    "tags": []
   },
   "outputs": [],
   "source": [
    "from sklearn.model_selection import StratifiedKFold\n",
    "folds = StratifiedKFold(n_splits=5)\n",
    "from sklearn.model_selection import cross_val_score"
   ]
  },
  {
   "cell_type": "markdown",
   "id": "bc40f69f",
   "metadata": {
    "papermill": {
     "duration": 0.021538,
     "end_time": "2023-05-22T15:53:32.662980",
     "exception": false,
     "start_time": "2023-05-22T15:53:32.641442",
     "status": "completed"
    },
    "tags": []
   },
   "source": [
    "**LogisticRegression**"
   ]
  },
  {
   "cell_type": "code",
   "execution_count": 27,
   "id": "40d6b610",
   "metadata": {
    "execution": {
     "iopub.execute_input": "2023-05-22T15:53:32.708473Z",
     "iopub.status.busy": "2023-05-22T15:53:32.707747Z",
     "iopub.status.idle": "2023-05-22T15:53:33.058597Z",
     "shell.execute_reply": "2023-05-22T15:53:33.057343Z"
    },
    "papermill": {
     "duration": 0.378724,
     "end_time": "2023-05-22T15:53:33.063299",
     "exception": false,
     "start_time": "2023-05-22T15:53:32.684575",
     "status": "completed"
    },
    "tags": []
   },
   "outputs": [
    {
     "name": "stderr",
     "output_type": "stream",
     "text": [
      "/opt/conda/lib/python3.10/site-packages/sklearn/linear_model/_logistic.py:458: ConvergenceWarning: lbfgs failed to converge (status=1):\n",
      "STOP: TOTAL NO. of ITERATIONS REACHED LIMIT.\n",
      "\n",
      "Increase the number of iterations (max_iter) or scale the data as shown in:\n",
      "    https://scikit-learn.org/stable/modules/preprocessing.html\n",
      "Please also refer to the documentation for alternative solver options:\n",
      "    https://scikit-learn.org/stable/modules/linear_model.html#logistic-regression\n",
      "  n_iter_i = _check_optimize_result(\n"
     ]
    },
    {
     "data": {
      "text/html": [
       "<style>#sk-container-id-1 {color: black;background-color: white;}#sk-container-id-1 pre{padding: 0;}#sk-container-id-1 div.sk-toggleable {background-color: white;}#sk-container-id-1 label.sk-toggleable__label {cursor: pointer;display: block;width: 100%;margin-bottom: 0;padding: 0.3em;box-sizing: border-box;text-align: center;}#sk-container-id-1 label.sk-toggleable__label-arrow:before {content: \"▸\";float: left;margin-right: 0.25em;color: #696969;}#sk-container-id-1 label.sk-toggleable__label-arrow:hover:before {color: black;}#sk-container-id-1 div.sk-estimator:hover label.sk-toggleable__label-arrow:before {color: black;}#sk-container-id-1 div.sk-toggleable__content {max-height: 0;max-width: 0;overflow: hidden;text-align: left;background-color: #f0f8ff;}#sk-container-id-1 div.sk-toggleable__content pre {margin: 0.2em;color: black;border-radius: 0.25em;background-color: #f0f8ff;}#sk-container-id-1 input.sk-toggleable__control:checked~div.sk-toggleable__content {max-height: 200px;max-width: 100%;overflow: auto;}#sk-container-id-1 input.sk-toggleable__control:checked~label.sk-toggleable__label-arrow:before {content: \"▾\";}#sk-container-id-1 div.sk-estimator input.sk-toggleable__control:checked~label.sk-toggleable__label {background-color: #d4ebff;}#sk-container-id-1 div.sk-label input.sk-toggleable__control:checked~label.sk-toggleable__label {background-color: #d4ebff;}#sk-container-id-1 input.sk-hidden--visually {border: 0;clip: rect(1px 1px 1px 1px);clip: rect(1px, 1px, 1px, 1px);height: 1px;margin: -1px;overflow: hidden;padding: 0;position: absolute;width: 1px;}#sk-container-id-1 div.sk-estimator {font-family: monospace;background-color: #f0f8ff;border: 1px dotted black;border-radius: 0.25em;box-sizing: border-box;margin-bottom: 0.5em;}#sk-container-id-1 div.sk-estimator:hover {background-color: #d4ebff;}#sk-container-id-1 div.sk-parallel-item::after {content: \"\";width: 100%;border-bottom: 1px solid gray;flex-grow: 1;}#sk-container-id-1 div.sk-label:hover label.sk-toggleable__label {background-color: #d4ebff;}#sk-container-id-1 div.sk-serial::before {content: \"\";position: absolute;border-left: 1px solid gray;box-sizing: border-box;top: 0;bottom: 0;left: 50%;z-index: 0;}#sk-container-id-1 div.sk-serial {display: flex;flex-direction: column;align-items: center;background-color: white;padding-right: 0.2em;padding-left: 0.2em;position: relative;}#sk-container-id-1 div.sk-item {position: relative;z-index: 1;}#sk-container-id-1 div.sk-parallel {display: flex;align-items: stretch;justify-content: center;background-color: white;position: relative;}#sk-container-id-1 div.sk-item::before, #sk-container-id-1 div.sk-parallel-item::before {content: \"\";position: absolute;border-left: 1px solid gray;box-sizing: border-box;top: 0;bottom: 0;left: 50%;z-index: -1;}#sk-container-id-1 div.sk-parallel-item {display: flex;flex-direction: column;z-index: 1;position: relative;background-color: white;}#sk-container-id-1 div.sk-parallel-item:first-child::after {align-self: flex-end;width: 50%;}#sk-container-id-1 div.sk-parallel-item:last-child::after {align-self: flex-start;width: 50%;}#sk-container-id-1 div.sk-parallel-item:only-child::after {width: 0;}#sk-container-id-1 div.sk-dashed-wrapped {border: 1px dashed gray;margin: 0 0.4em 0.5em 0.4em;box-sizing: border-box;padding-bottom: 0.4em;background-color: white;}#sk-container-id-1 div.sk-label label {font-family: monospace;font-weight: bold;display: inline-block;line-height: 1.2em;}#sk-container-id-1 div.sk-label-container {text-align: center;}#sk-container-id-1 div.sk-container {/* jupyter's `normalize.less` sets `[hidden] { display: none; }` but bootstrap.min.css set `[hidden] { display: none !important; }` so we also need the `!important` here to be able to override the default hidden behavior on the sphinx rendered scikit-learn.org. See: https://github.com/scikit-learn/scikit-learn/issues/21755 */display: inline-block !important;position: relative;}#sk-container-id-1 div.sk-text-repr-fallback {display: none;}</style><div id=\"sk-container-id-1\" class=\"sk-top-container\"><div class=\"sk-text-repr-fallback\"><pre>LogisticRegression()</pre><b>In a Jupyter environment, please rerun this cell to show the HTML representation or trust the notebook. <br />On GitHub, the HTML representation is unable to render, please try loading this page with nbviewer.org.</b></div><div class=\"sk-container\" hidden><div class=\"sk-item\"><div class=\"sk-estimator sk-toggleable\"><input class=\"sk-toggleable__control sk-hidden--visually\" id=\"sk-estimator-id-1\" type=\"checkbox\" checked><label for=\"sk-estimator-id-1\" class=\"sk-toggleable__label sk-toggleable__label-arrow\">LogisticRegression</label><div class=\"sk-toggleable__content\"><pre>LogisticRegression()</pre></div></div></div></div></div>"
      ],
      "text/plain": [
       "LogisticRegression()"
      ]
     },
     "execution_count": 27,
     "metadata": {},
     "output_type": "execute_result"
    }
   ],
   "source": [
    "lr = LogisticRegression()\n",
    "lr.fit(X_train, y_train)"
   ]
  },
  {
   "cell_type": "code",
   "execution_count": 28,
   "id": "ad9edc0f",
   "metadata": {
    "execution": {
     "iopub.execute_input": "2023-05-22T15:53:33.156307Z",
     "iopub.status.busy": "2023-05-22T15:53:33.155583Z",
     "iopub.status.idle": "2023-05-22T15:53:33.174236Z",
     "shell.execute_reply": "2023-05-22T15:53:33.172964Z"
    },
    "papermill": {
     "duration": 0.070133,
     "end_time": "2023-05-22T15:53:33.178163",
     "exception": false,
     "start_time": "2023-05-22T15:53:33.108030",
     "status": "completed"
    },
    "tags": []
   },
   "outputs": [
    {
     "data": {
      "text/plain": [
       "0.8036101083032491"
      ]
     },
     "execution_count": 28,
     "metadata": {},
     "output_type": "execute_result"
    }
   ],
   "source": [
    "lr.score(X_test,y_test)"
   ]
  },
  {
   "cell_type": "code",
   "execution_count": 29,
   "id": "d7929858",
   "metadata": {
    "execution": {
     "iopub.execute_input": "2023-05-22T15:53:33.276050Z",
     "iopub.status.busy": "2023-05-22T15:53:33.275374Z",
     "iopub.status.idle": "2023-05-22T15:53:35.024180Z",
     "shell.execute_reply": "2023-05-22T15:53:35.022978Z"
    },
    "papermill": {
     "duration": 1.803671,
     "end_time": "2023-05-22T15:53:35.029107",
     "exception": false,
     "start_time": "2023-05-22T15:53:33.225436",
     "status": "completed"
    },
    "tags": []
   },
   "outputs": [
    {
     "name": "stderr",
     "output_type": "stream",
     "text": [
      "/opt/conda/lib/python3.10/site-packages/sklearn/linear_model/_logistic.py:458: ConvergenceWarning: lbfgs failed to converge (status=1):\n",
      "STOP: TOTAL NO. of ITERATIONS REACHED LIMIT.\n",
      "\n",
      "Increase the number of iterations (max_iter) or scale the data as shown in:\n",
      "    https://scikit-learn.org/stable/modules/preprocessing.html\n",
      "Please also refer to the documentation for alternative solver options:\n",
      "    https://scikit-learn.org/stable/modules/linear_model.html#logistic-regression\n",
      "  n_iter_i = _check_optimize_result(\n",
      "/opt/conda/lib/python3.10/site-packages/sklearn/linear_model/_logistic.py:458: ConvergenceWarning: lbfgs failed to converge (status=1):\n",
      "STOP: TOTAL NO. of ITERATIONS REACHED LIMIT.\n",
      "\n",
      "Increase the number of iterations (max_iter) or scale the data as shown in:\n",
      "    https://scikit-learn.org/stable/modules/preprocessing.html\n",
      "Please also refer to the documentation for alternative solver options:\n",
      "    https://scikit-learn.org/stable/modules/linear_model.html#logistic-regression\n",
      "  n_iter_i = _check_optimize_result(\n",
      "/opt/conda/lib/python3.10/site-packages/sklearn/linear_model/_logistic.py:458: ConvergenceWarning: lbfgs failed to converge (status=1):\n",
      "STOP: TOTAL NO. of ITERATIONS REACHED LIMIT.\n",
      "\n",
      "Increase the number of iterations (max_iter) or scale the data as shown in:\n",
      "    https://scikit-learn.org/stable/modules/preprocessing.html\n",
      "Please also refer to the documentation for alternative solver options:\n",
      "    https://scikit-learn.org/stable/modules/linear_model.html#logistic-regression\n",
      "  n_iter_i = _check_optimize_result(\n",
      "/opt/conda/lib/python3.10/site-packages/sklearn/linear_model/_logistic.py:458: ConvergenceWarning: lbfgs failed to converge (status=1):\n",
      "STOP: TOTAL NO. of ITERATIONS REACHED LIMIT.\n",
      "\n",
      "Increase the number of iterations (max_iter) or scale the data as shown in:\n",
      "    https://scikit-learn.org/stable/modules/preprocessing.html\n",
      "Please also refer to the documentation for alternative solver options:\n",
      "    https://scikit-learn.org/stable/modules/linear_model.html#logistic-regression\n",
      "  n_iter_i = _check_optimize_result(\n",
      "/opt/conda/lib/python3.10/site-packages/sklearn/linear_model/_logistic.py:458: ConvergenceWarning: lbfgs failed to converge (status=1):\n",
      "STOP: TOTAL NO. of ITERATIONS REACHED LIMIT.\n",
      "\n",
      "Increase the number of iterations (max_iter) or scale the data as shown in:\n",
      "    https://scikit-learn.org/stable/modules/preprocessing.html\n",
      "Please also refer to the documentation for alternative solver options:\n",
      "    https://scikit-learn.org/stable/modules/linear_model.html#logistic-regression\n",
      "  n_iter_i = _check_optimize_result(\n"
     ]
    },
    {
     "data": {
      "text/plain": [
       "array([0.7843987 , 0.79523294, 0.7933526 , 0.79660405, 0.78143064])"
      ]
     },
     "execution_count": 29,
     "metadata": {},
     "output_type": "execute_result"
    }
   ],
   "source": [
    "cross_val_score(lr,X,y)"
   ]
  },
  {
   "cell_type": "markdown",
   "id": "24e23fb7",
   "metadata": {
    "papermill": {
     "duration": 0.047806,
     "end_time": "2023-05-22T15:53:35.124200",
     "exception": false,
     "start_time": "2023-05-22T15:53:35.076394",
     "status": "completed"
    },
    "tags": []
   },
   "source": [
    "**MultinomialNB**"
   ]
  },
  {
   "cell_type": "code",
   "execution_count": 30,
   "id": "032f7e92",
   "metadata": {
    "execution": {
     "iopub.execute_input": "2023-05-22T15:53:35.178202Z",
     "iopub.status.busy": "2023-05-22T15:53:35.177798Z",
     "iopub.status.idle": "2023-05-22T15:53:35.220712Z",
     "shell.execute_reply": "2023-05-22T15:53:35.219605Z"
    },
    "papermill": {
     "duration": 0.071297,
     "end_time": "2023-05-22T15:53:35.224481",
     "exception": false,
     "start_time": "2023-05-22T15:53:35.153184",
     "status": "completed"
    },
    "tags": []
   },
   "outputs": [
    {
     "data": {
      "text/plain": [
       "0.6375451263537906"
      ]
     },
     "execution_count": 30,
     "metadata": {},
     "output_type": "execute_result"
    }
   ],
   "source": [
    "from sklearn.naive_bayes import MultinomialNB\n",
    "mo=MultinomialNB()\n",
    "mo.fit(X_train, y_train)\n",
    "mo.score(X_test,y_test)"
   ]
  },
  {
   "cell_type": "code",
   "execution_count": 31,
   "id": "a6d67225",
   "metadata": {
    "execution": {
     "iopub.execute_input": "2023-05-22T15:53:35.322450Z",
     "iopub.status.busy": "2023-05-22T15:53:35.321782Z",
     "iopub.status.idle": "2023-05-22T15:53:35.575607Z",
     "shell.execute_reply": "2023-05-22T15:53:35.573985Z"
    },
    "papermill": {
     "duration": 0.308845,
     "end_time": "2023-05-22T15:53:35.581496",
     "exception": false,
     "start_time": "2023-05-22T15:53:35.272651",
     "status": "completed"
    },
    "tags": []
   },
   "outputs": [
    {
     "data": {
      "text/plain": [
       "array([0.63921993, 0.63813651, 0.65209538, 0.65137283, 0.6416185 ])"
      ]
     },
     "execution_count": 31,
     "metadata": {},
     "output_type": "execute_result"
    }
   ],
   "source": [
    "cross_val_score(mo,X,y)"
   ]
  },
  {
   "cell_type": "code",
   "execution_count": 32,
   "id": "199d663c",
   "metadata": {
    "execution": {
     "iopub.execute_input": "2023-05-22T15:53:35.688371Z",
     "iopub.status.busy": "2023-05-22T15:53:35.687975Z",
     "iopub.status.idle": "2023-05-22T15:53:35.708843Z",
     "shell.execute_reply": "2023-05-22T15:53:35.707932Z"
    },
    "papermill": {
     "duration": 0.074784,
     "end_time": "2023-05-22T15:53:35.710885",
     "exception": false,
     "start_time": "2023-05-22T15:53:35.636101",
     "status": "completed"
    },
    "tags": []
   },
   "outputs": [
    {
     "data": {
      "text/html": [
       "<div>\n",
       "<style scoped>\n",
       "    .dataframe tbody tr th:only-of-type {\n",
       "        vertical-align: middle;\n",
       "    }\n",
       "\n",
       "    .dataframe tbody tr th {\n",
       "        vertical-align: top;\n",
       "    }\n",
       "\n",
       "    .dataframe thead th {\n",
       "        text-align: right;\n",
       "    }\n",
       "</style>\n",
       "<table border=\"1\" class=\"dataframe\">\n",
       "  <thead>\n",
       "    <tr style=\"text-align: right;\">\n",
       "      <th></th>\n",
       "      <th>Age</th>\n",
       "      <th>education_num</th>\n",
       "      <th>capital_gain</th>\n",
       "      <th>capital_loss</th>\n",
       "      <th>hours_per_week</th>\n",
       "      <th>Working_class_ Local-gov</th>\n",
       "      <th>Working_class_ Private</th>\n",
       "      <th>Working_class_ Self-emp-inc</th>\n",
       "      <th>Working_class_ Self-emp-not-inc</th>\n",
       "      <th>Working_class_ State-gov</th>\n",
       "      <th>...</th>\n",
       "      <th>native_country_ Puerto-Rico</th>\n",
       "      <th>native_country_ Scotland</th>\n",
       "      <th>native_country_ South</th>\n",
       "      <th>native_country_ Taiwan</th>\n",
       "      <th>native_country_ Thailand</th>\n",
       "      <th>native_country_ Trinadad&amp;Tobago</th>\n",
       "      <th>native_country_ United-States</th>\n",
       "      <th>native_country_ Vietnam</th>\n",
       "      <th>native_country_ Yugoslavia</th>\n",
       "      <th>native_country_United-States</th>\n",
       "    </tr>\n",
       "  </thead>\n",
       "  <tbody>\n",
       "    <tr>\n",
       "      <th>0</th>\n",
       "      <td>37</td>\n",
       "      <td>13</td>\n",
       "      <td>0</td>\n",
       "      <td>0</td>\n",
       "      <td>40</td>\n",
       "      <td>0</td>\n",
       "      <td>1</td>\n",
       "      <td>0</td>\n",
       "      <td>0</td>\n",
       "      <td>0</td>\n",
       "      <td>...</td>\n",
       "      <td>0</td>\n",
       "      <td>0</td>\n",
       "      <td>0</td>\n",
       "      <td>0</td>\n",
       "      <td>0</td>\n",
       "      <td>0</td>\n",
       "      <td>1</td>\n",
       "      <td>0</td>\n",
       "      <td>0</td>\n",
       "      <td>0</td>\n",
       "    </tr>\n",
       "    <tr>\n",
       "      <th>1</th>\n",
       "      <td>41</td>\n",
       "      <td>11</td>\n",
       "      <td>0</td>\n",
       "      <td>0</td>\n",
       "      <td>40</td>\n",
       "      <td>0</td>\n",
       "      <td>1</td>\n",
       "      <td>0</td>\n",
       "      <td>0</td>\n",
       "      <td>0</td>\n",
       "      <td>...</td>\n",
       "      <td>0</td>\n",
       "      <td>0</td>\n",
       "      <td>0</td>\n",
       "      <td>0</td>\n",
       "      <td>0</td>\n",
       "      <td>0</td>\n",
       "      <td>1</td>\n",
       "      <td>0</td>\n",
       "      <td>0</td>\n",
       "      <td>0</td>\n",
       "    </tr>\n",
       "    <tr>\n",
       "      <th>2</th>\n",
       "      <td>23</td>\n",
       "      <td>13</td>\n",
       "      <td>0</td>\n",
       "      <td>0</td>\n",
       "      <td>38</td>\n",
       "      <td>0</td>\n",
       "      <td>1</td>\n",
       "      <td>0</td>\n",
       "      <td>0</td>\n",
       "      <td>0</td>\n",
       "      <td>...</td>\n",
       "      <td>0</td>\n",
       "      <td>0</td>\n",
       "      <td>0</td>\n",
       "      <td>0</td>\n",
       "      <td>0</td>\n",
       "      <td>0</td>\n",
       "      <td>1</td>\n",
       "      <td>0</td>\n",
       "      <td>0</td>\n",
       "      <td>0</td>\n",
       "    </tr>\n",
       "    <tr>\n",
       "      <th>3</th>\n",
       "      <td>35</td>\n",
       "      <td>13</td>\n",
       "      <td>4650</td>\n",
       "      <td>0</td>\n",
       "      <td>40</td>\n",
       "      <td>0</td>\n",
       "      <td>1</td>\n",
       "      <td>0</td>\n",
       "      <td>0</td>\n",
       "      <td>0</td>\n",
       "      <td>...</td>\n",
       "      <td>0</td>\n",
       "      <td>0</td>\n",
       "      <td>0</td>\n",
       "      <td>0</td>\n",
       "      <td>0</td>\n",
       "      <td>0</td>\n",
       "      <td>1</td>\n",
       "      <td>0</td>\n",
       "      <td>0</td>\n",
       "      <td>0</td>\n",
       "    </tr>\n",
       "    <tr>\n",
       "      <th>4</th>\n",
       "      <td>28</td>\n",
       "      <td>9</td>\n",
       "      <td>0</td>\n",
       "      <td>0</td>\n",
       "      <td>40</td>\n",
       "      <td>0</td>\n",
       "      <td>1</td>\n",
       "      <td>0</td>\n",
       "      <td>0</td>\n",
       "      <td>0</td>\n",
       "      <td>...</td>\n",
       "      <td>0</td>\n",
       "      <td>0</td>\n",
       "      <td>0</td>\n",
       "      <td>0</td>\n",
       "      <td>0</td>\n",
       "      <td>0</td>\n",
       "      <td>1</td>\n",
       "      <td>0</td>\n",
       "      <td>0</td>\n",
       "      <td>0</td>\n",
       "    </tr>\n",
       "  </tbody>\n",
       "</table>\n",
       "<p>5 rows × 97 columns</p>\n",
       "</div>"
      ],
      "text/plain": [
       "   Age  education_num  capital_gain  capital_loss  hours_per_week  \\\n",
       "0   37             13             0             0              40   \n",
       "1   41             11             0             0              40   \n",
       "2   23             13             0             0              38   \n",
       "3   35             13          4650             0              40   \n",
       "4   28              9             0             0              40   \n",
       "\n",
       "   Working_class_ Local-gov  Working_class_ Private  \\\n",
       "0                         0                       1   \n",
       "1                         0                       1   \n",
       "2                         0                       1   \n",
       "3                         0                       1   \n",
       "4                         0                       1   \n",
       "\n",
       "   Working_class_ Self-emp-inc  Working_class_ Self-emp-not-inc  \\\n",
       "0                            0                                0   \n",
       "1                            0                                0   \n",
       "2                            0                                0   \n",
       "3                            0                                0   \n",
       "4                            0                                0   \n",
       "\n",
       "   Working_class_ State-gov  ...  native_country_ Puerto-Rico  \\\n",
       "0                         0  ...                            0   \n",
       "1                         0  ...                            0   \n",
       "2                         0  ...                            0   \n",
       "3                         0  ...                            0   \n",
       "4                         0  ...                            0   \n",
       "\n",
       "   native_country_ Scotland  native_country_ South  native_country_ Taiwan  \\\n",
       "0                         0                      0                       0   \n",
       "1                         0                      0                       0   \n",
       "2                         0                      0                       0   \n",
       "3                         0                      0                       0   \n",
       "4                         0                      0                       0   \n",
       "\n",
       "   native_country_ Thailand  native_country_ Trinadad&Tobago  \\\n",
       "0                         0                                0   \n",
       "1                         0                                0   \n",
       "2                         0                                0   \n",
       "3                         0                                0   \n",
       "4                         0                                0   \n",
       "\n",
       "   native_country_ United-States  native_country_ Vietnam  \\\n",
       "0                              1                        0   \n",
       "1                              1                        0   \n",
       "2                              1                        0   \n",
       "3                              1                        0   \n",
       "4                              1                        0   \n",
       "\n",
       "   native_country_ Yugoslavia  native_country_United-States  \n",
       "0                           0                             0  \n",
       "1                           0                             0  \n",
       "2                           0                             0  \n",
       "3                           0                             0  \n",
       "4                           0                             0  \n",
       "\n",
       "[5 rows x 97 columns]"
      ]
     },
     "execution_count": 32,
     "metadata": {},
     "output_type": "execute_result"
    }
   ],
   "source": [
    "X.head()"
   ]
  },
  {
   "cell_type": "markdown",
   "id": "684529ed",
   "metadata": {
    "papermill": {
     "duration": 0.023031,
     "end_time": "2023-05-22T15:53:35.757677",
     "exception": false,
     "start_time": "2023-05-22T15:53:35.734646",
     "status": "completed"
    },
    "tags": []
   },
   "source": [
    "**GaussianNB**"
   ]
  },
  {
   "cell_type": "code",
   "execution_count": 33,
   "id": "549c694f",
   "metadata": {
    "execution": {
     "iopub.execute_input": "2023-05-22T15:53:35.806874Z",
     "iopub.status.busy": "2023-05-22T15:53:35.806128Z",
     "iopub.status.idle": "2023-05-22T15:53:35.811181Z",
     "shell.execute_reply": "2023-05-22T15:53:35.810050Z"
    },
    "papermill": {
     "duration": 0.032517,
     "end_time": "2023-05-22T15:53:35.813676",
     "exception": false,
     "start_time": "2023-05-22T15:53:35.781159",
     "status": "completed"
    },
    "tags": []
   },
   "outputs": [],
   "source": [
    "from sklearn.naive_bayes import GaussianNB\n",
    "mode = GaussianNB()"
   ]
  },
  {
   "cell_type": "code",
   "execution_count": 34,
   "id": "2ab97acc",
   "metadata": {
    "execution": {
     "iopub.execute_input": "2023-05-22T15:53:35.862535Z",
     "iopub.status.busy": "2023-05-22T15:53:35.861856Z",
     "iopub.status.idle": "2023-05-22T15:53:35.914044Z",
     "shell.execute_reply": "2023-05-22T15:53:35.912277Z"
    },
    "papermill": {
     "duration": 0.079727,
     "end_time": "2023-05-22T15:53:35.916780",
     "exception": false,
     "start_time": "2023-05-22T15:53:35.837053",
     "status": "completed"
    },
    "tags": []
   },
   "outputs": [
    {
     "data": {
      "text/plain": [
       "0.7855595667870036"
      ]
     },
     "execution_count": 34,
     "metadata": {},
     "output_type": "execute_result"
    }
   ],
   "source": [
    "mode.fit(X_train, y_train)\n",
    "mode.score(X_test,y_test)\n"
   ]
  },
  {
   "cell_type": "code",
   "execution_count": 35,
   "id": "0c14dfce",
   "metadata": {
    "execution": {
     "iopub.execute_input": "2023-05-22T15:53:35.966255Z",
     "iopub.status.busy": "2023-05-22T15:53:35.965865Z",
     "iopub.status.idle": "2023-05-22T15:53:36.218510Z",
     "shell.execute_reply": "2023-05-22T15:53:36.217137Z"
    },
    "papermill": {
     "duration": 0.280423,
     "end_time": "2023-05-22T15:53:36.221371",
     "exception": false,
     "start_time": "2023-05-22T15:53:35.940948",
     "status": "completed"
    },
    "tags": []
   },
   "outputs": [
    {
     "data": {
      "text/plain": [
       "array([0.78620441, 0.7843987 , 0.7882948 , 0.79515896, 0.78793353])"
      ]
     },
     "execution_count": 35,
     "metadata": {},
     "output_type": "execute_result"
    }
   ],
   "source": [
    "cross_val_score(mode,X,y)"
   ]
  },
  {
   "cell_type": "markdown",
   "id": "af55ec32",
   "metadata": {
    "papermill": {
     "duration": 0.023183,
     "end_time": "2023-05-22T15:53:36.268209",
     "exception": false,
     "start_time": "2023-05-22T15:53:36.245026",
     "status": "completed"
    },
    "tags": []
   },
   "source": [
    "**SVC**"
   ]
  },
  {
   "cell_type": "code",
   "execution_count": 36,
   "id": "9d9003b2",
   "metadata": {
    "execution": {
     "iopub.execute_input": "2023-05-22T15:53:36.317851Z",
     "iopub.status.busy": "2023-05-22T15:53:36.317448Z",
     "iopub.status.idle": "2023-05-22T15:53:36.322729Z",
     "shell.execute_reply": "2023-05-22T15:53:36.321560Z"
    },
    "papermill": {
     "duration": 0.032751,
     "end_time": "2023-05-22T15:53:36.325220",
     "exception": false,
     "start_time": "2023-05-22T15:53:36.292469",
     "status": "completed"
    },
    "tags": []
   },
   "outputs": [],
   "source": [
    "from sklearn.svm import SVC\n",
    "model = SVC(C=20)"
   ]
  },
  {
   "cell_type": "code",
   "execution_count": 37,
   "id": "ae54c3ac",
   "metadata": {
    "execution": {
     "iopub.execute_input": "2023-05-22T15:53:36.375147Z",
     "iopub.status.busy": "2023-05-22T15:53:36.374711Z",
     "iopub.status.idle": "2023-05-22T15:53:48.834209Z",
     "shell.execute_reply": "2023-05-22T15:53:48.833134Z"
    },
    "papermill": {
     "duration": 12.487652,
     "end_time": "2023-05-22T15:53:48.836631",
     "exception": false,
     "start_time": "2023-05-22T15:53:36.348979",
     "status": "completed"
    },
    "tags": []
   },
   "outputs": [
    {
     "data": {
      "text/plain": [
       "0.6794223826714801"
      ]
     },
     "execution_count": 37,
     "metadata": {},
     "output_type": "execute_result"
    }
   ],
   "source": [
    "model.fit(X_train, y_train)\n",
    "model.score(X_test,y_test)"
   ]
  },
  {
   "cell_type": "markdown",
   "id": "c3b8c8e3",
   "metadata": {
    "papermill": {
     "duration": 0.023747,
     "end_time": "2023-05-22T15:53:48.885689",
     "exception": false,
     "start_time": "2023-05-22T15:53:48.861942",
     "status": "completed"
    },
    "tags": []
   },
   "source": [
    "# Using Boosting Algorithm"
   ]
  },
  {
   "cell_type": "code",
   "execution_count": 38,
   "id": "0af91e06",
   "metadata": {
    "execution": {
     "iopub.execute_input": "2023-05-22T15:53:48.936165Z",
     "iopub.status.busy": "2023-05-22T15:53:48.935739Z",
     "iopub.status.idle": "2023-05-22T15:53:50.034218Z",
     "shell.execute_reply": "2023-05-22T15:53:50.033123Z"
    },
    "papermill": {
     "duration": 1.126579,
     "end_time": "2023-05-22T15:53:50.036947",
     "exception": false,
     "start_time": "2023-05-22T15:53:48.910368",
     "status": "completed"
    },
    "tags": []
   },
   "outputs": [
    {
     "data": {
      "text/plain": [
       "0.8158844765342961"
      ]
     },
     "execution_count": 38,
     "metadata": {},
     "output_type": "execute_result"
    }
   ],
   "source": [
    "from sklearn.ensemble import GradientBoostingClassifier #For Regression\n",
    "cl = GradientBoostingClassifier(n_estimators=100, learning_rate=1.0, max_depth=1)\n",
    "cl.fit(X_train, y_train)\n",
    "cl.score(X_test,y_test)"
   ]
  },
  {
   "cell_type": "code",
   "execution_count": 39,
   "id": "395975d2",
   "metadata": {
    "execution": {
     "iopub.execute_input": "2023-05-22T15:53:50.087501Z",
     "iopub.status.busy": "2023-05-22T15:53:50.087094Z",
     "iopub.status.idle": "2023-05-22T15:53:54.288900Z",
     "shell.execute_reply": "2023-05-22T15:53:54.287767Z"
    },
    "papermill": {
     "duration": 4.230292,
     "end_time": "2023-05-22T15:53:54.291244",
     "exception": false,
     "start_time": "2023-05-22T15:53:50.060952",
     "status": "completed"
    },
    "tags": []
   },
   "outputs": [
    {
     "data": {
      "text/plain": [
       "array([0.8255688 , 0.8255688 , 0.82333815, 0.83562139, 0.82767341])"
      ]
     },
     "execution_count": 39,
     "metadata": {},
     "output_type": "execute_result"
    }
   ],
   "source": [
    "cross_val_score(cl,X,y)"
   ]
  },
  {
   "cell_type": "code",
   "execution_count": 40,
   "id": "b45312c5",
   "metadata": {
    "execution": {
     "iopub.execute_input": "2023-05-22T15:53:54.341623Z",
     "iopub.status.busy": "2023-05-22T15:53:54.340620Z",
     "iopub.status.idle": "2023-05-22T15:53:57.376634Z",
     "shell.execute_reply": "2023-05-22T15:53:57.375545Z"
    },
    "papermill": {
     "duration": 3.063771,
     "end_time": "2023-05-22T15:53:57.379125",
     "exception": false,
     "start_time": "2023-05-22T15:53:54.315354",
     "status": "completed"
    },
    "tags": []
   },
   "outputs": [
    {
     "name": "stderr",
     "output_type": "stream",
     "text": [
      "/opt/conda/lib/python3.10/site-packages/sklearn/ensemble/_base.py:166: FutureWarning: `base_estimator` was renamed to `estimator` in version 1.2 and will be removed in 1.4.\n",
      "  warnings.warn(\n"
     ]
    },
    {
     "data": {
      "text/plain": [
       "0.7790613718411552"
      ]
     },
     "execution_count": 40,
     "metadata": {},
     "output_type": "execute_result"
    }
   ],
   "source": [
    "from sklearn.ensemble import AdaBoostClassifier #For Classification\n",
    "from sklearn.ensemble import AdaBoostRegressor #For Regression\n",
    "from sklearn.tree import DecisionTreeClassifier\n",
    "dtree = DecisionTreeClassifier()\n",
    "clr = AdaBoostClassifier(n_estimators=40, base_estimator=dtree,learning_rate=1.0)\n",
    "clr.fit(X_train, y_train)\n",
    "clr.score(X_test,y_test)"
   ]
  },
  {
   "cell_type": "code",
   "execution_count": 41,
   "id": "68a72fd2",
   "metadata": {
    "execution": {
     "iopub.execute_input": "2023-05-22T15:53:57.429515Z",
     "iopub.status.busy": "2023-05-22T15:53:57.429145Z",
     "iopub.status.idle": "2023-05-22T15:53:57.433515Z",
     "shell.execute_reply": "2023-05-22T15:53:57.432361Z"
    },
    "papermill": {
     "duration": 0.032461,
     "end_time": "2023-05-22T15:53:57.435796",
     "exception": false,
     "start_time": "2023-05-22T15:53:57.403335",
     "status": "completed"
    },
    "tags": []
   },
   "outputs": [],
   "source": [
    "#cross_val_score(model,X,y)"
   ]
  },
  {
   "cell_type": "code",
   "execution_count": 42,
   "id": "c59aae7e",
   "metadata": {
    "execution": {
     "iopub.execute_input": "2023-05-22T15:53:57.486848Z",
     "iopub.status.busy": "2023-05-22T15:53:57.486442Z",
     "iopub.status.idle": "2023-05-22T15:53:58.066428Z",
     "shell.execute_reply": "2023-05-22T15:53:58.065414Z"
    },
    "papermill": {
     "duration": 0.608869,
     "end_time": "2023-05-22T15:53:58.069209",
     "exception": false,
     "start_time": "2023-05-22T15:53:57.460340",
     "status": "completed"
    },
    "tags": []
   },
   "outputs": [],
   "source": [
    "from catboost import CatBoostClassifier\n",
    "from sklearn.metrics import accuracy_score"
   ]
  },
  {
   "cell_type": "code",
   "execution_count": 43,
   "id": "46403510",
   "metadata": {
    "execution": {
     "iopub.execute_input": "2023-05-22T15:53:58.122325Z",
     "iopub.status.busy": "2023-05-22T15:53:58.121220Z",
     "iopub.status.idle": "2023-05-22T15:53:58.129890Z",
     "shell.execute_reply": "2023-05-22T15:53:58.128913Z"
    },
    "papermill": {
     "duration": 0.037689,
     "end_time": "2023-05-22T15:53:58.132256",
     "exception": false,
     "start_time": "2023-05-22T15:53:58.094567",
     "status": "completed"
    },
    "tags": []
   },
   "outputs": [
    {
     "name": "stderr",
     "output_type": "stream",
     "text": [
      "/tmp/ipykernel_20/3792431531.py:2: DeprecationWarning: `np.float` is a deprecated alias for the builtin `float`. To silence this warning, use `float` by itself. Doing this will not modify any behavior and is safe. If you specifically wanted the numpy scalar type, use `np.float64` here.\n",
      "Deprecated in NumPy 1.20; for more details and guidance: https://numpy.org/devdocs/release/1.20.0-notes.html#deprecations\n",
      "  categorical_var = np.where(X_train.dtypes != np.float)[0]\n"
     ]
    }
   ],
   "source": [
    "# find out the indices of categorical variables\n",
    "categorical_var = np.where(X_train.dtypes != np.float)[0]"
   ]
  },
  {
   "cell_type": "code",
   "execution_count": 44,
   "id": "c2766245",
   "metadata": {
    "execution": {
     "iopub.execute_input": "2023-05-22T15:53:58.184368Z",
     "iopub.status.busy": "2023-05-22T15:53:58.183570Z",
     "iopub.status.idle": "2023-05-22T15:53:59.473426Z",
     "shell.execute_reply": "2023-05-22T15:53:59.472031Z"
    },
    "papermill": {
     "duration": 1.318688,
     "end_time": "2023-05-22T15:53:59.475714",
     "exception": false,
     "start_time": "2023-05-22T15:53:58.157026",
     "status": "completed"
    },
    "tags": []
   },
   "outputs": [
    {
     "name": "stdout",
     "output_type": "stream",
     "text": [
      "Learning rate set to 0.471759\n",
      "0:\tlearn: 0.5247179\ttotal: 83.6ms\tremaining: 4.1s\n",
      "1:\tlearn: 0.4298138\ttotal: 98.1ms\tremaining: 2.35s\n",
      "2:\tlearn: 0.3948699\ttotal: 111ms\tremaining: 1.74s\n",
      "3:\tlearn: 0.3753686\ttotal: 123ms\tremaining: 1.42s\n",
      "4:\tlearn: 0.3634914\ttotal: 136ms\tremaining: 1.23s\n",
      "5:\tlearn: 0.3555254\ttotal: 149ms\tremaining: 1.09s\n",
      "6:\tlearn: 0.3521518\ttotal: 161ms\tremaining: 992ms\n",
      "7:\tlearn: 0.3490057\ttotal: 174ms\tremaining: 912ms\n",
      "8:\tlearn: 0.3473545\ttotal: 186ms\tremaining: 847ms\n",
      "9:\tlearn: 0.3452291\ttotal: 200ms\tremaining: 799ms\n",
      "10:\tlearn: 0.3437776\ttotal: 212ms\tremaining: 750ms\n",
      "11:\tlearn: 0.3434295\ttotal: 218ms\tremaining: 691ms\n",
      "12:\tlearn: 0.3411228\ttotal: 236ms\tremaining: 672ms\n",
      "13:\tlearn: 0.3390147\ttotal: 254ms\tremaining: 652ms\n",
      "14:\tlearn: 0.3376911\ttotal: 266ms\tremaining: 622ms\n",
      "15:\tlearn: 0.3361243\ttotal: 282ms\tremaining: 600ms\n",
      "16:\tlearn: 0.3356186\ttotal: 300ms\tremaining: 581ms\n",
      "17:\tlearn: 0.3345698\ttotal: 319ms\tremaining: 567ms\n",
      "18:\tlearn: 0.3338670\ttotal: 341ms\tremaining: 557ms\n",
      "19:\tlearn: 0.3324642\ttotal: 359ms\tremaining: 538ms\n",
      "20:\tlearn: 0.3312006\ttotal: 375ms\tremaining: 518ms\n",
      "21:\tlearn: 0.3298039\ttotal: 387ms\tremaining: 493ms\n",
      "22:\tlearn: 0.3286810\ttotal: 402ms\tremaining: 471ms\n",
      "23:\tlearn: 0.3267998\ttotal: 415ms\tremaining: 450ms\n",
      "24:\tlearn: 0.3255043\ttotal: 430ms\tremaining: 430ms\n",
      "25:\tlearn: 0.3247429\ttotal: 442ms\tremaining: 408ms\n",
      "26:\tlearn: 0.3232845\ttotal: 455ms\tremaining: 387ms\n",
      "27:\tlearn: 0.3220638\ttotal: 467ms\tremaining: 367ms\n",
      "28:\tlearn: 0.3201626\ttotal: 479ms\tremaining: 347ms\n",
      "29:\tlearn: 0.3191318\ttotal: 492ms\tremaining: 328ms\n",
      "30:\tlearn: 0.3182356\ttotal: 504ms\tremaining: 309ms\n",
      "31:\tlearn: 0.3168087\ttotal: 516ms\tremaining: 290ms\n",
      "32:\tlearn: 0.3163963\ttotal: 528ms\tremaining: 272ms\n",
      "33:\tlearn: 0.3150802\ttotal: 543ms\tremaining: 256ms\n",
      "34:\tlearn: 0.3146025\ttotal: 557ms\tremaining: 239ms\n",
      "35:\tlearn: 0.3144815\ttotal: 568ms\tremaining: 221ms\n",
      "36:\tlearn: 0.3134796\ttotal: 580ms\tremaining: 204ms\n",
      "37:\tlearn: 0.3129752\ttotal: 592ms\tremaining: 187ms\n",
      "38:\tlearn: 0.3122473\ttotal: 605ms\tremaining: 171ms\n",
      "39:\tlearn: 0.3115738\ttotal: 617ms\tremaining: 154ms\n",
      "40:\tlearn: 0.3107483\ttotal: 629ms\tremaining: 138ms\n",
      "41:\tlearn: 0.3097938\ttotal: 641ms\tremaining: 122ms\n",
      "42:\tlearn: 0.3092307\ttotal: 653ms\tremaining: 106ms\n",
      "43:\tlearn: 0.3086654\ttotal: 665ms\tremaining: 90.7ms\n",
      "44:\tlearn: 0.3080786\ttotal: 677ms\tremaining: 75.3ms\n",
      "45:\tlearn: 0.3076244\ttotal: 689ms\tremaining: 59.9ms\n",
      "46:\tlearn: 0.3065775\ttotal: 702ms\tremaining: 44.8ms\n",
      "47:\tlearn: 0.3061296\ttotal: 714ms\tremaining: 29.7ms\n",
      "48:\tlearn: 0.3049843\ttotal: 726ms\tremaining: 14.8ms\n",
      "49:\tlearn: 0.3046896\ttotal: 738ms\tremaining: 0us\n"
     ]
    },
    {
     "data": {
      "text/plain": [
       "<catboost.core.CatBoostClassifier at 0x7e427a100040>"
      ]
     },
     "execution_count": 44,
     "metadata": {},
     "output_type": "execute_result"
    }
   ],
   "source": [
    "model = CatBoostClassifier(iterations=50)\n",
    "model.fit(X_train, y_train,cat_features = categorical_var,plot=False)"
   ]
  },
  {
   "cell_type": "code",
   "execution_count": 45,
   "id": "3586b43c",
   "metadata": {
    "execution": {
     "iopub.execute_input": "2023-05-22T15:53:59.528789Z",
     "iopub.status.busy": "2023-05-22T15:53:59.527747Z",
     "iopub.status.idle": "2023-05-22T15:53:59.593565Z",
     "shell.execute_reply": "2023-05-22T15:53:59.592751Z"
    },
    "papermill": {
     "duration": 0.094492,
     "end_time": "2023-05-22T15:53:59.595763",
     "exception": false,
     "start_time": "2023-05-22T15:53:59.501271",
     "status": "completed"
    },
    "tags": []
   },
   "outputs": [
    {
     "data": {
      "text/plain": [
       "0.8187725631768953"
      ]
     },
     "execution_count": 45,
     "metadata": {},
     "output_type": "execute_result"
    }
   ],
   "source": [
    "model.score(X_test,y_test)"
   ]
  },
  {
   "cell_type": "code",
   "execution_count": 46,
   "id": "0678aec8",
   "metadata": {
    "execution": {
     "iopub.execute_input": "2023-05-22T15:53:59.650060Z",
     "iopub.status.busy": "2023-05-22T15:53:59.649022Z",
     "iopub.status.idle": "2023-05-22T15:54:01.365568Z",
     "shell.execute_reply": "2023-05-22T15:54:01.364402Z"
    },
    "papermill": {
     "duration": 1.746582,
     "end_time": "2023-05-22T15:54:01.368183",
     "exception": false,
     "start_time": "2023-05-22T15:53:59.621601",
     "status": "completed"
    },
    "tags": []
   },
   "outputs": [
    {
     "name": "stdout",
     "output_type": "stream",
     "text": [
      "Learning rate set to 0.448621\n",
      "0:\tlearn: 0.4837699\ttotal: 5.42ms\tremaining: 266ms\n",
      "1:\tlearn: 0.4216856\ttotal: 10.5ms\tremaining: 252ms\n",
      "2:\tlearn: 0.3976027\ttotal: 15.4ms\tremaining: 242ms\n",
      "3:\tlearn: 0.3842123\ttotal: 20.6ms\tremaining: 237ms\n",
      "4:\tlearn: 0.3791422\ttotal: 25.4ms\tremaining: 228ms\n",
      "5:\tlearn: 0.3710500\ttotal: 30.5ms\tremaining: 223ms\n",
      "6:\tlearn: 0.3654724\ttotal: 35.1ms\tremaining: 216ms\n",
      "7:\tlearn: 0.3609492\ttotal: 40ms\tremaining: 210ms\n",
      "8:\tlearn: 0.3585352\ttotal: 44.7ms\tremaining: 204ms\n",
      "9:\tlearn: 0.3565910\ttotal: 49.2ms\tremaining: 197ms\n",
      "10:\tlearn: 0.3543705\ttotal: 54ms\tremaining: 191ms\n",
      "11:\tlearn: 0.3521561\ttotal: 58.7ms\tremaining: 186ms\n",
      "12:\tlearn: 0.3503888\ttotal: 63.6ms\tremaining: 181ms\n",
      "13:\tlearn: 0.3492055\ttotal: 69.4ms\tremaining: 178ms\n",
      "14:\tlearn: 0.3484245\ttotal: 74.2ms\tremaining: 173ms\n",
      "15:\tlearn: 0.3469861\ttotal: 79.2ms\tremaining: 168ms\n",
      "16:\tlearn: 0.3459649\ttotal: 84ms\tremaining: 163ms\n",
      "17:\tlearn: 0.3446505\ttotal: 88.8ms\tremaining: 158ms\n",
      "18:\tlearn: 0.3377138\ttotal: 93.3ms\tremaining: 152ms\n",
      "19:\tlearn: 0.3353567\ttotal: 98ms\tremaining: 147ms\n",
      "20:\tlearn: 0.3341655\ttotal: 103ms\tremaining: 142ms\n",
      "21:\tlearn: 0.3330219\ttotal: 108ms\tremaining: 137ms\n",
      "22:\tlearn: 0.3319118\ttotal: 112ms\tremaining: 132ms\n",
      "23:\tlearn: 0.3306523\ttotal: 117ms\tremaining: 127ms\n",
      "24:\tlearn: 0.3294638\ttotal: 122ms\tremaining: 122ms\n",
      "25:\tlearn: 0.3266088\ttotal: 127ms\tremaining: 117ms\n",
      "26:\tlearn: 0.3246091\ttotal: 131ms\tremaining: 112ms\n",
      "27:\tlearn: 0.3195029\ttotal: 136ms\tremaining: 106ms\n",
      "28:\tlearn: 0.3183128\ttotal: 140ms\tremaining: 102ms\n",
      "29:\tlearn: 0.3173918\ttotal: 145ms\tremaining: 96.9ms\n",
      "30:\tlearn: 0.3166594\ttotal: 150ms\tremaining: 92ms\n",
      "31:\tlearn: 0.3151605\ttotal: 155ms\tremaining: 87.3ms\n",
      "32:\tlearn: 0.3139922\ttotal: 160ms\tremaining: 82.5ms\n",
      "33:\tlearn: 0.3128688\ttotal: 165ms\tremaining: 77.6ms\n",
      "34:\tlearn: 0.3115008\ttotal: 170ms\tremaining: 72.8ms\n",
      "35:\tlearn: 0.3108208\ttotal: 175ms\tremaining: 68ms\n",
      "36:\tlearn: 0.3098001\ttotal: 180ms\tremaining: 63.1ms\n",
      "37:\tlearn: 0.3084697\ttotal: 185ms\tremaining: 58.3ms\n",
      "38:\tlearn: 0.3079430\ttotal: 190ms\tremaining: 53.5ms\n",
      "39:\tlearn: 0.3066369\ttotal: 196ms\tremaining: 48.9ms\n",
      "40:\tlearn: 0.3057470\ttotal: 200ms\tremaining: 44ms\n",
      "41:\tlearn: 0.3046899\ttotal: 205ms\tremaining: 39.1ms\n",
      "42:\tlearn: 0.3040316\ttotal: 211ms\tremaining: 34.4ms\n",
      "43:\tlearn: 0.3028628\ttotal: 217ms\tremaining: 29.7ms\n",
      "44:\tlearn: 0.3027271\ttotal: 224ms\tremaining: 24.9ms\n",
      "45:\tlearn: 0.3014030\ttotal: 231ms\tremaining: 20.1ms\n",
      "46:\tlearn: 0.3007404\ttotal: 236ms\tremaining: 15ms\n",
      "47:\tlearn: 0.2994636\ttotal: 241ms\tremaining: 10ms\n",
      "48:\tlearn: 0.2990160\ttotal: 246ms\tremaining: 5.01ms\n",
      "49:\tlearn: 0.2980431\ttotal: 251ms\tremaining: 0us\n",
      "Learning rate set to 0.448621\n",
      "0:\tlearn: 0.4769679\ttotal: 5.19ms\tremaining: 254ms\n",
      "1:\tlearn: 0.4195175\ttotal: 10.6ms\tremaining: 255ms\n",
      "2:\tlearn: 0.3967403\ttotal: 15.7ms\tremaining: 247ms\n",
      "3:\tlearn: 0.3804494\ttotal: 21.1ms\tremaining: 243ms\n",
      "4:\tlearn: 0.3738196\ttotal: 26.4ms\tremaining: 238ms\n",
      "5:\tlearn: 0.3657106\ttotal: 31.7ms\tremaining: 232ms\n",
      "6:\tlearn: 0.3643312\ttotal: 35.5ms\tremaining: 218ms\n",
      "7:\tlearn: 0.3606932\ttotal: 40.7ms\tremaining: 214ms\n",
      "8:\tlearn: 0.3565833\ttotal: 45.8ms\tremaining: 208ms\n",
      "9:\tlearn: 0.3525773\ttotal: 51.4ms\tremaining: 206ms\n",
      "10:\tlearn: 0.3501966\ttotal: 57.9ms\tremaining: 205ms\n",
      "11:\tlearn: 0.3481471\ttotal: 63.2ms\tremaining: 200ms\n",
      "12:\tlearn: 0.3465888\ttotal: 68ms\tremaining: 194ms\n",
      "13:\tlearn: 0.3442362\ttotal: 72.7ms\tremaining: 187ms\n",
      "14:\tlearn: 0.3424619\ttotal: 76.4ms\tremaining: 178ms\n",
      "15:\tlearn: 0.3410379\ttotal: 81.1ms\tremaining: 172ms\n",
      "16:\tlearn: 0.3397394\ttotal: 86.1ms\tremaining: 167ms\n",
      "17:\tlearn: 0.3387973\ttotal: 90.9ms\tremaining: 162ms\n",
      "18:\tlearn: 0.3371616\ttotal: 95.9ms\tremaining: 156ms\n",
      "19:\tlearn: 0.3358813\ttotal: 101ms\tremaining: 151ms\n",
      "20:\tlearn: 0.3343734\ttotal: 105ms\tremaining: 146ms\n",
      "21:\tlearn: 0.3331291\ttotal: 110ms\tremaining: 140ms\n",
      "22:\tlearn: 0.3317900\ttotal: 115ms\tremaining: 135ms\n",
      "23:\tlearn: 0.3309166\ttotal: 120ms\tremaining: 130ms\n",
      "24:\tlearn: 0.3283962\ttotal: 125ms\tremaining: 125ms\n",
      "25:\tlearn: 0.3222794\ttotal: 130ms\tremaining: 120ms\n",
      "26:\tlearn: 0.3212650\ttotal: 135ms\tremaining: 115ms\n",
      "27:\tlearn: 0.3197908\ttotal: 140ms\tremaining: 110ms\n",
      "28:\tlearn: 0.3186791\ttotal: 145ms\tremaining: 105ms\n",
      "29:\tlearn: 0.3154222\ttotal: 149ms\tremaining: 99.3ms\n",
      "30:\tlearn: 0.3150913\ttotal: 154ms\tremaining: 94.1ms\n",
      "31:\tlearn: 0.3139656\ttotal: 158ms\tremaining: 89ms\n",
      "32:\tlearn: 0.3132530\ttotal: 163ms\tremaining: 83.8ms\n",
      "33:\tlearn: 0.3126418\ttotal: 167ms\tremaining: 78.6ms\n",
      "34:\tlearn: 0.3114711\ttotal: 172ms\tremaining: 73.6ms\n",
      "35:\tlearn: 0.3105307\ttotal: 176ms\tremaining: 68.5ms\n",
      "36:\tlearn: 0.3095831\ttotal: 181ms\tremaining: 63.6ms\n",
      "37:\tlearn: 0.3089714\ttotal: 185ms\tremaining: 58.5ms\n",
      "38:\tlearn: 0.3084819\ttotal: 190ms\tremaining: 53.5ms\n",
      "39:\tlearn: 0.3074623\ttotal: 194ms\tremaining: 48.6ms\n",
      "40:\tlearn: 0.3062651\ttotal: 199ms\tremaining: 43.7ms\n",
      "41:\tlearn: 0.3054911\ttotal: 204ms\tremaining: 38.8ms\n",
      "42:\tlearn: 0.3039665\ttotal: 209ms\tremaining: 34ms\n",
      "43:\tlearn: 0.3020081\ttotal: 214ms\tremaining: 29.2ms\n",
      "44:\tlearn: 0.3011411\ttotal: 219ms\tremaining: 24.3ms\n",
      "45:\tlearn: 0.3005446\ttotal: 224ms\tremaining: 19.4ms\n",
      "46:\tlearn: 0.3003929\ttotal: 228ms\tremaining: 14.6ms\n",
      "47:\tlearn: 0.2999311\ttotal: 233ms\tremaining: 9.71ms\n",
      "48:\tlearn: 0.2990256\ttotal: 238ms\tremaining: 4.85ms\n",
      "49:\tlearn: 0.2986917\ttotal: 243ms\tremaining: 0us\n",
      "Learning rate set to 0.448639\n",
      "0:\tlearn: 0.4705995\ttotal: 6.55ms\tremaining: 321ms\n",
      "1:\tlearn: 0.4112397\ttotal: 11.8ms\tremaining: 284ms\n",
      "2:\tlearn: 0.3936653\ttotal: 17.8ms\tremaining: 279ms\n",
      "3:\tlearn: 0.3787667\ttotal: 24.2ms\tremaining: 278ms\n",
      "4:\tlearn: 0.3731862\ttotal: 29.6ms\tremaining: 267ms\n",
      "5:\tlearn: 0.3696703\ttotal: 36ms\tremaining: 264ms\n",
      "6:\tlearn: 0.3654894\ttotal: 42.1ms\tremaining: 259ms\n",
      "7:\tlearn: 0.3614699\ttotal: 48.1ms\tremaining: 252ms\n",
      "8:\tlearn: 0.3596611\ttotal: 53.1ms\tremaining: 242ms\n",
      "9:\tlearn: 0.3575312\ttotal: 58ms\tremaining: 232ms\n",
      "10:\tlearn: 0.3547421\ttotal: 62.9ms\tremaining: 223ms\n",
      "11:\tlearn: 0.3528537\ttotal: 67.8ms\tremaining: 215ms\n",
      "12:\tlearn: 0.3508313\ttotal: 72.9ms\tremaining: 207ms\n",
      "13:\tlearn: 0.3492853\ttotal: 77.6ms\tremaining: 199ms\n",
      "14:\tlearn: 0.3473959\ttotal: 82.4ms\tremaining: 192ms\n",
      "15:\tlearn: 0.3452479\ttotal: 87.2ms\tremaining: 185ms\n",
      "16:\tlearn: 0.3436258\ttotal: 92.1ms\tremaining: 179ms\n",
      "17:\tlearn: 0.3403272\ttotal: 97.8ms\tremaining: 174ms\n",
      "18:\tlearn: 0.3395595\ttotal: 107ms\tremaining: 175ms\n",
      "19:\tlearn: 0.3381906\ttotal: 115ms\tremaining: 173ms\n",
      "20:\tlearn: 0.3362927\ttotal: 121ms\tremaining: 167ms\n",
      "21:\tlearn: 0.3348038\ttotal: 126ms\tremaining: 161ms\n",
      "22:\tlearn: 0.3332630\ttotal: 133ms\tremaining: 156ms\n",
      "23:\tlearn: 0.3304401\ttotal: 138ms\tremaining: 149ms\n",
      "24:\tlearn: 0.3294027\ttotal: 142ms\tremaining: 142ms\n",
      "25:\tlearn: 0.3249834\ttotal: 147ms\tremaining: 136ms\n",
      "26:\tlearn: 0.3239340\ttotal: 151ms\tremaining: 129ms\n",
      "27:\tlearn: 0.3222350\ttotal: 156ms\tremaining: 123ms\n",
      "28:\tlearn: 0.3207494\ttotal: 161ms\tremaining: 117ms\n",
      "29:\tlearn: 0.3182656\ttotal: 166ms\tremaining: 111ms\n",
      "30:\tlearn: 0.3137964\ttotal: 171ms\tremaining: 105ms\n",
      "31:\tlearn: 0.3126731\ttotal: 175ms\tremaining: 98.5ms\n",
      "32:\tlearn: 0.3118577\ttotal: 180ms\tremaining: 92.6ms\n",
      "33:\tlearn: 0.3108443\ttotal: 184ms\tremaining: 86.8ms\n",
      "34:\tlearn: 0.3103730\ttotal: 189ms\tremaining: 80.9ms\n",
      "35:\tlearn: 0.3087724\ttotal: 198ms\tremaining: 77ms\n",
      "36:\tlearn: 0.3084567\ttotal: 205ms\tremaining: 72.1ms\n",
      "37:\tlearn: 0.3075571\ttotal: 211ms\tremaining: 66.6ms\n",
      "38:\tlearn: 0.3066303\ttotal: 216ms\tremaining: 60.9ms\n",
      "39:\tlearn: 0.3049611\ttotal: 221ms\tremaining: 55.3ms\n",
      "40:\tlearn: 0.3035655\ttotal: 229ms\tremaining: 50.3ms\n",
      "41:\tlearn: 0.3034075\ttotal: 234ms\tremaining: 44.6ms\n",
      "42:\tlearn: 0.3023353\ttotal: 239ms\tremaining: 38.9ms\n",
      "43:\tlearn: 0.3013847\ttotal: 244ms\tremaining: 33.3ms\n",
      "44:\tlearn: 0.3002488\ttotal: 249ms\tremaining: 27.7ms\n",
      "45:\tlearn: 0.2995818\ttotal: 254ms\tremaining: 22.1ms\n",
      "46:\tlearn: 0.2978384\ttotal: 259ms\tremaining: 16.5ms\n",
      "47:\tlearn: 0.2967289\ttotal: 264ms\tremaining: 11ms\n",
      "48:\tlearn: 0.2955760\ttotal: 269ms\tremaining: 5.48ms\n",
      "49:\tlearn: 0.2945721\ttotal: 274ms\tremaining: 0us\n",
      "Learning rate set to 0.448639\n",
      "0:\tlearn: 0.4782190\ttotal: 5.05ms\tremaining: 247ms\n",
      "1:\tlearn: 0.4207495\ttotal: 10ms\tremaining: 240ms\n",
      "2:\tlearn: 0.4004684\ttotal: 15.1ms\tremaining: 236ms\n",
      "3:\tlearn: 0.3869706\ttotal: 20.4ms\tremaining: 234ms\n",
      "4:\tlearn: 0.3802515\ttotal: 25.2ms\tremaining: 227ms\n",
      "5:\tlearn: 0.3739718\ttotal: 30ms\tremaining: 220ms\n",
      "6:\tlearn: 0.3670121\ttotal: 34.6ms\tremaining: 212ms\n",
      "7:\tlearn: 0.3628753\ttotal: 40.3ms\tremaining: 211ms\n",
      "8:\tlearn: 0.3600820\ttotal: 48.6ms\tremaining: 222ms\n",
      "9:\tlearn: 0.3587891\ttotal: 56.1ms\tremaining: 224ms\n",
      "10:\tlearn: 0.3551041\ttotal: 62.1ms\tremaining: 220ms\n",
      "11:\tlearn: 0.3526810\ttotal: 70ms\tremaining: 222ms\n",
      "12:\tlearn: 0.3500823\ttotal: 76.5ms\tremaining: 218ms\n",
      "13:\tlearn: 0.3487190\ttotal: 81.3ms\tremaining: 209ms\n",
      "14:\tlearn: 0.3464761\ttotal: 86.5ms\tremaining: 202ms\n",
      "15:\tlearn: 0.3454857\ttotal: 91.5ms\tremaining: 194ms\n",
      "16:\tlearn: 0.3432647\ttotal: 96ms\tremaining: 186ms\n",
      "17:\tlearn: 0.3421705\ttotal: 101ms\tremaining: 179ms\n",
      "18:\tlearn: 0.3411640\ttotal: 106ms\tremaining: 173ms\n",
      "19:\tlearn: 0.3391825\ttotal: 112ms\tremaining: 168ms\n",
      "20:\tlearn: 0.3372841\ttotal: 117ms\tremaining: 162ms\n",
      "21:\tlearn: 0.3362564\ttotal: 122ms\tremaining: 155ms\n",
      "22:\tlearn: 0.3351210\ttotal: 127ms\tremaining: 149ms\n",
      "23:\tlearn: 0.3317525\ttotal: 132ms\tremaining: 143ms\n",
      "24:\tlearn: 0.3307804\ttotal: 138ms\tremaining: 138ms\n",
      "25:\tlearn: 0.3296663\ttotal: 143ms\tremaining: 132ms\n",
      "26:\tlearn: 0.3284032\ttotal: 148ms\tremaining: 126ms\n",
      "27:\tlearn: 0.3277299\ttotal: 153ms\tremaining: 120ms\n",
      "28:\tlearn: 0.3265910\ttotal: 157ms\tremaining: 114ms\n",
      "29:\tlearn: 0.3243737\ttotal: 163ms\tremaining: 108ms\n",
      "30:\tlearn: 0.3231955\ttotal: 169ms\tremaining: 103ms\n",
      "31:\tlearn: 0.3222924\ttotal: 173ms\tremaining: 97.4ms\n",
      "32:\tlearn: 0.3219577\ttotal: 178ms\tremaining: 91.5ms\n",
      "33:\tlearn: 0.3217008\ttotal: 182ms\tremaining: 85.6ms\n",
      "34:\tlearn: 0.3196972\ttotal: 186ms\tremaining: 79.9ms\n",
      "35:\tlearn: 0.3181967\ttotal: 191ms\tremaining: 74.4ms\n",
      "36:\tlearn: 0.3171609\ttotal: 196ms\tremaining: 68.9ms\n",
      "37:\tlearn: 0.3165614\ttotal: 201ms\tremaining: 63.4ms\n",
      "38:\tlearn: 0.3164184\ttotal: 205ms\tremaining: 57.8ms\n",
      "39:\tlearn: 0.3155332\ttotal: 209ms\tremaining: 52.4ms\n",
      "40:\tlearn: 0.3144397\ttotal: 214ms\tremaining: 47.1ms\n",
      "41:\tlearn: 0.3134312\ttotal: 219ms\tremaining: 41.8ms\n",
      "42:\tlearn: 0.3124002\ttotal: 225ms\tremaining: 36.6ms\n",
      "43:\tlearn: 0.3115250\ttotal: 230ms\tremaining: 31.3ms\n",
      "44:\tlearn: 0.3094473\ttotal: 236ms\tremaining: 26.2ms\n",
      "45:\tlearn: 0.3081139\ttotal: 242ms\tremaining: 21ms\n",
      "46:\tlearn: 0.3065151\ttotal: 248ms\tremaining: 15.9ms\n",
      "47:\tlearn: 0.3058862\ttotal: 253ms\tremaining: 10.5ms\n",
      "48:\tlearn: 0.3013474\ttotal: 260ms\tremaining: 5.3ms\n",
      "49:\tlearn: 0.3003364\ttotal: 265ms\tremaining: 0us\n",
      "Learning rate set to 0.448639\n",
      "0:\tlearn: 0.4850745\ttotal: 4.29ms\tremaining: 210ms\n",
      "1:\tlearn: 0.4261213\ttotal: 8.47ms\tremaining: 203ms\n",
      "2:\tlearn: 0.4034365\ttotal: 12.7ms\tremaining: 199ms\n",
      "3:\tlearn: 0.3871323\ttotal: 17.3ms\tremaining: 199ms\n",
      "4:\tlearn: 0.3785313\ttotal: 21.6ms\tremaining: 194ms\n",
      "5:\tlearn: 0.3748710\ttotal: 25.8ms\tremaining: 189ms\n",
      "6:\tlearn: 0.3711508\ttotal: 30.1ms\tremaining: 185ms\n",
      "7:\tlearn: 0.3663265\ttotal: 34.5ms\tremaining: 181ms\n",
      "8:\tlearn: 0.3636085\ttotal: 39.1ms\tremaining: 178ms\n",
      "9:\tlearn: 0.3624284\ttotal: 43.1ms\tremaining: 173ms\n",
      "10:\tlearn: 0.3586060\ttotal: 47.4ms\tremaining: 168ms\n",
      "11:\tlearn: 0.3568726\ttotal: 51.6ms\tremaining: 163ms\n",
      "12:\tlearn: 0.3553842\ttotal: 56.2ms\tremaining: 160ms\n",
      "13:\tlearn: 0.3540649\ttotal: 60.3ms\tremaining: 155ms\n",
      "14:\tlearn: 0.3524767\ttotal: 64.7ms\tremaining: 151ms\n",
      "15:\tlearn: 0.3512026\ttotal: 69.5ms\tremaining: 148ms\n",
      "16:\tlearn: 0.3497916\ttotal: 74.2ms\tremaining: 144ms\n",
      "17:\tlearn: 0.3482640\ttotal: 79.1ms\tremaining: 141ms\n",
      "18:\tlearn: 0.3441201\ttotal: 83.8ms\tremaining: 137ms\n",
      "19:\tlearn: 0.3392244\ttotal: 88.5ms\tremaining: 133ms\n",
      "20:\tlearn: 0.3375316\ttotal: 94.1ms\tremaining: 130ms\n",
      "21:\tlearn: 0.3364108\ttotal: 99.7ms\tremaining: 127ms\n",
      "22:\tlearn: 0.3352591\ttotal: 105ms\tremaining: 123ms\n",
      "23:\tlearn: 0.3329494\ttotal: 110ms\tremaining: 119ms\n",
      "24:\tlearn: 0.3315762\ttotal: 115ms\tremaining: 115ms\n",
      "25:\tlearn: 0.3303667\ttotal: 119ms\tremaining: 110ms\n",
      "26:\tlearn: 0.3294096\ttotal: 124ms\tremaining: 106ms\n",
      "27:\tlearn: 0.3233536\ttotal: 129ms\tremaining: 101ms\n",
      "28:\tlearn: 0.3217249\ttotal: 133ms\tremaining: 96.6ms\n",
      "29:\tlearn: 0.3208705\ttotal: 138ms\tremaining: 91.9ms\n",
      "30:\tlearn: 0.3196113\ttotal: 143ms\tremaining: 87.4ms\n",
      "31:\tlearn: 0.3190777\ttotal: 147ms\tremaining: 82.7ms\n",
      "32:\tlearn: 0.3179180\ttotal: 152ms\tremaining: 78.2ms\n",
      "33:\tlearn: 0.3166631\ttotal: 156ms\tremaining: 73.6ms\n",
      "34:\tlearn: 0.3153284\ttotal: 161ms\tremaining: 69ms\n",
      "35:\tlearn: 0.3147812\ttotal: 166ms\tremaining: 64.4ms\n",
      "36:\tlearn: 0.3145854\ttotal: 170ms\tremaining: 59.7ms\n",
      "37:\tlearn: 0.3122870\ttotal: 175ms\tremaining: 55.3ms\n",
      "38:\tlearn: 0.3111340\ttotal: 180ms\tremaining: 50.7ms\n",
      "39:\tlearn: 0.3101541\ttotal: 184ms\tremaining: 46.1ms\n",
      "40:\tlearn: 0.3088233\ttotal: 189ms\tremaining: 41.5ms\n",
      "41:\tlearn: 0.3078029\ttotal: 194ms\tremaining: 36.9ms\n",
      "42:\tlearn: 0.3060758\ttotal: 198ms\tremaining: 32.3ms\n",
      "43:\tlearn: 0.3051870\ttotal: 203ms\tremaining: 27.7ms\n",
      "44:\tlearn: 0.3036112\ttotal: 208ms\tremaining: 23.1ms\n",
      "45:\tlearn: 0.3022187\ttotal: 213ms\tremaining: 18.5ms\n",
      "46:\tlearn: 0.3010475\ttotal: 218ms\tremaining: 13.9ms\n",
      "47:\tlearn: 0.3008180\ttotal: 222ms\tremaining: 9.25ms\n",
      "48:\tlearn: 0.3000148\ttotal: 227ms\tremaining: 4.62ms\n",
      "49:\tlearn: 0.2993173\ttotal: 231ms\tremaining: 0us\n"
     ]
    },
    {
     "data": {
      "text/plain": [
       "array([0.8255688 , 0.82412423, 0.82117052, 0.83706647, 0.83489884])"
      ]
     },
     "execution_count": 46,
     "metadata": {},
     "output_type": "execute_result"
    }
   ],
   "source": [
    "cross_val_score(model,X,y)"
   ]
  },
  {
   "cell_type": "markdown",
   "id": "e493692c",
   "metadata": {
    "papermill": {
     "duration": 0.026046,
     "end_time": "2023-05-22T15:54:01.420898",
     "exception": false,
     "start_time": "2023-05-22T15:54:01.394852",
     "status": "completed"
    },
    "tags": []
   },
   "source": [
    "## Submission File"
   ]
  },
  {
   "cell_type": "code",
   "execution_count": 47,
   "id": "7ab70533",
   "metadata": {
    "execution": {
     "iopub.execute_input": "2023-05-22T15:54:01.476046Z",
     "iopub.status.busy": "2023-05-22T15:54:01.475609Z",
     "iopub.status.idle": "2023-05-22T15:54:01.939138Z",
     "shell.execute_reply": "2023-05-22T15:54:01.937799Z"
    },
    "papermill": {
     "duration": 0.49445,
     "end_time": "2023-05-22T15:54:01.942035",
     "exception": false,
     "start_time": "2023-05-22T15:54:01.447585",
     "status": "completed"
    },
    "tags": []
   },
   "outputs": [],
   "source": [
    "predicted=model.predict(test)"
   ]
  },
  {
   "cell_type": "code",
   "execution_count": 48,
   "id": "c2154a29",
   "metadata": {
    "execution": {
     "iopub.execute_input": "2023-05-22T15:54:01.998551Z",
     "iopub.status.busy": "2023-05-22T15:54:01.998172Z",
     "iopub.status.idle": "2023-05-22T15:54:02.044108Z",
     "shell.execute_reply": "2023-05-22T15:54:02.042971Z"
    },
    "papermill": {
     "duration": 0.077897,
     "end_time": "2023-05-22T15:54:02.046888",
     "exception": false,
     "start_time": "2023-05-22T15:54:01.968991",
     "status": "completed"
    },
    "tags": []
   },
   "outputs": [
    {
     "data": {
      "text/html": [
       "<div>\n",
       "<style scoped>\n",
       "    .dataframe tbody tr th:only-of-type {\n",
       "        vertical-align: middle;\n",
       "    }\n",
       "\n",
       "    .dataframe tbody tr th {\n",
       "        vertical-align: top;\n",
       "    }\n",
       "\n",
       "    .dataframe thead th {\n",
       "        text-align: right;\n",
       "    }\n",
       "</style>\n",
       "<table border=\"1\" class=\"dataframe\">\n",
       "  <thead>\n",
       "    <tr style=\"text-align: right;\">\n",
       "      <th></th>\n",
       "      <th>id</th>\n",
       "      <th>earning</th>\n",
       "    </tr>\n",
       "  </thead>\n",
       "  <tbody>\n",
       "    <tr>\n",
       "      <th>13835</th>\n",
       "      <td>13835</td>\n",
       "      <td>1</td>\n",
       "    </tr>\n",
       "    <tr>\n",
       "      <th>13836</th>\n",
       "      <td>13836</td>\n",
       "      <td>1</td>\n",
       "    </tr>\n",
       "    <tr>\n",
       "      <th>13837</th>\n",
       "      <td>13837</td>\n",
       "      <td>1</td>\n",
       "    </tr>\n",
       "    <tr>\n",
       "      <th>13838</th>\n",
       "      <td>13838</td>\n",
       "      <td>0</td>\n",
       "    </tr>\n",
       "    <tr>\n",
       "      <th>13839</th>\n",
       "      <td>13839</td>\n",
       "      <td>1</td>\n",
       "    </tr>\n",
       "  </tbody>\n",
       "</table>\n",
       "</div>"
      ],
      "text/plain": [
       "          id  earning\n",
       "13835  13835        1\n",
       "13836  13836        1\n",
       "13837  13837        1\n",
       "13838  13838        0\n",
       "13839  13839        1"
      ]
     },
     "execution_count": 48,
     "metadata": {},
     "output_type": "execute_result"
    }
   ],
   "source": [
    "\n",
    "prediction = pd.DataFrame(predicted,columns=['earning']).to_csv('submissio.csv',index=False)\n",
    "result=pd.read_csv('submissio.csv')\n",
    "result=pd.concat([id,result],axis='columns')\n",
    "result.tail()\n"
   ]
  },
  {
   "cell_type": "code",
   "execution_count": 49,
   "id": "5d3f4fe4",
   "metadata": {
    "execution": {
     "iopub.execute_input": "2023-05-22T15:54:02.102439Z",
     "iopub.status.busy": "2023-05-22T15:54:02.102058Z",
     "iopub.status.idle": "2023-05-22T15:54:02.150035Z",
     "shell.execute_reply": "2023-05-22T15:54:02.149011Z"
    },
    "papermill": {
     "duration": 0.078927,
     "end_time": "2023-05-22T15:54:02.152393",
     "exception": false,
     "start_time": "2023-05-22T15:54:02.073466",
     "status": "completed"
    },
    "tags": []
   },
   "outputs": [
    {
     "data": {
      "text/html": [
       "<div>\n",
       "<style scoped>\n",
       "    .dataframe tbody tr th:only-of-type {\n",
       "        vertical-align: middle;\n",
       "    }\n",
       "\n",
       "    .dataframe tbody tr th {\n",
       "        vertical-align: top;\n",
       "    }\n",
       "\n",
       "    .dataframe thead th {\n",
       "        text-align: right;\n",
       "    }\n",
       "</style>\n",
       "<table border=\"1\" class=\"dataframe\">\n",
       "  <thead>\n",
       "    <tr style=\"text-align: right;\">\n",
       "      <th></th>\n",
       "      <th>id</th>\n",
       "      <th>earning</th>\n",
       "    </tr>\n",
       "  </thead>\n",
       "  <tbody>\n",
       "    <tr>\n",
       "      <th>0</th>\n",
       "      <td>0</td>\n",
       "      <td>0</td>\n",
       "    </tr>\n",
       "    <tr>\n",
       "      <th>1</th>\n",
       "      <td>1</td>\n",
       "      <td>1</td>\n",
       "    </tr>\n",
       "    <tr>\n",
       "      <th>2</th>\n",
       "      <td>2</td>\n",
       "      <td>1</td>\n",
       "    </tr>\n",
       "    <tr>\n",
       "      <th>3</th>\n",
       "      <td>3</td>\n",
       "      <td>1</td>\n",
       "    </tr>\n",
       "    <tr>\n",
       "      <th>4</th>\n",
       "      <td>4</td>\n",
       "      <td>1</td>\n",
       "    </tr>\n",
       "    <tr>\n",
       "      <th>5</th>\n",
       "      <td>5</td>\n",
       "      <td>1</td>\n",
       "    </tr>\n",
       "    <tr>\n",
       "      <th>6</th>\n",
       "      <td>6</td>\n",
       "      <td>1</td>\n",
       "    </tr>\n",
       "    <tr>\n",
       "      <th>7</th>\n",
       "      <td>7</td>\n",
       "      <td>1</td>\n",
       "    </tr>\n",
       "    <tr>\n",
       "      <th>8</th>\n",
       "      <td>8</td>\n",
       "      <td>1</td>\n",
       "    </tr>\n",
       "    <tr>\n",
       "      <th>9</th>\n",
       "      <td>9</td>\n",
       "      <td>0</td>\n",
       "    </tr>\n",
       "    <tr>\n",
       "      <th>10</th>\n",
       "      <td>10</td>\n",
       "      <td>1</td>\n",
       "    </tr>\n",
       "    <tr>\n",
       "      <th>11</th>\n",
       "      <td>11</td>\n",
       "      <td>1</td>\n",
       "    </tr>\n",
       "    <tr>\n",
       "      <th>12</th>\n",
       "      <td>12</td>\n",
       "      <td>1</td>\n",
       "    </tr>\n",
       "    <tr>\n",
       "      <th>13</th>\n",
       "      <td>13</td>\n",
       "      <td>0</td>\n",
       "    </tr>\n",
       "    <tr>\n",
       "      <th>14</th>\n",
       "      <td>14</td>\n",
       "      <td>1</td>\n",
       "    </tr>\n",
       "    <tr>\n",
       "      <th>15</th>\n",
       "      <td>15</td>\n",
       "      <td>0</td>\n",
       "    </tr>\n",
       "    <tr>\n",
       "      <th>16</th>\n",
       "      <td>16</td>\n",
       "      <td>1</td>\n",
       "    </tr>\n",
       "    <tr>\n",
       "      <th>17</th>\n",
       "      <td>17</td>\n",
       "      <td>1</td>\n",
       "    </tr>\n",
       "    <tr>\n",
       "      <th>18</th>\n",
       "      <td>18</td>\n",
       "      <td>0</td>\n",
       "    </tr>\n",
       "    <tr>\n",
       "      <th>19</th>\n",
       "      <td>19</td>\n",
       "      <td>1</td>\n",
       "    </tr>\n",
       "  </tbody>\n",
       "</table>\n",
       "</div>"
      ],
      "text/plain": [
       "    id  earning\n",
       "0    0        0\n",
       "1    1        1\n",
       "2    2        1\n",
       "3    3        1\n",
       "4    4        1\n",
       "5    5        1\n",
       "6    6        1\n",
       "7    7        1\n",
       "8    8        1\n",
       "9    9        0\n",
       "10  10        1\n",
       "11  11        1\n",
       "12  12        1\n",
       "13  13        0\n",
       "14  14        1\n",
       "15  15        0\n",
       "16  16        1\n",
       "17  17        1\n",
       "18  18        0\n",
       "19  19        1"
      ]
     },
     "execution_count": 49,
     "metadata": {},
     "output_type": "execute_result"
    }
   ],
   "source": [
    "prediction = pd.DataFrame(result, columns=['id','earning']).to_csv('submission.csv',index=False)\n",
    "results=pd.read_csv('submission.csv')\n",
    "results.head(20)"
   ]
  }
 ],
 "metadata": {
  "kernelspec": {
   "display_name": "Python 3",
   "language": "python",
   "name": "python3"
  },
  "language_info": {
   "codemirror_mode": {
    "name": "ipython",
    "version": 3
   },
   "file_extension": ".py",
   "mimetype": "text/x-python",
   "name": "python",
   "nbconvert_exporter": "python",
   "pygments_lexer": "ipython3",
   "version": "3.10.10"
  },
  "papermill": {
   "default_parameters": {},
   "duration": 47.865873,
   "end_time": "2023-05-22T15:54:03.204113",
   "environment_variables": {},
   "exception": null,
   "input_path": "__notebook__.ipynb",
   "output_path": "__notebook__.ipynb",
   "parameters": {},
   "start_time": "2023-05-22T15:53:15.338240",
   "version": "2.4.0"
  }
 },
 "nbformat": 4,
 "nbformat_minor": 5
}
